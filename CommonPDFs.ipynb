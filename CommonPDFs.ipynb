{
 "cells": [
  {
   "cell_type": "code",
   "execution_count": 1,
   "metadata": {
    "slideshow": {
     "slide_type": "slide"
    }
   },
   "outputs": [],
   "source": [
    "import numpy as np\n",
    "from random import seed \n",
    "from random import gauss \n",
    "from random import uniform\n",
    "import matplotlib.pyplot as plt\n",
    "from scipy.stats import binom\n",
    "from scipy.stats import randint\n",
    "from scipy.stats import poisson"
   ]
  },
  {
   "cell_type": "markdown",
   "metadata": {
    "slideshow": {
     "slide_type": "slide"
    }
   },
   "source": [
    "# Binomial pmf\n",
    "\n",
    "- Consider an experiment consisting of $N$ independent trials, each with two possible results: 'success' and 'failure'\n",
    "    - probability for success in each trial is a constant, $P$. \n",
    "    - experiment characterised by $n$ (total number of successes). \n",
    "- Repeat experiment $N_{exps}$ times\n",
    "    - $n$ would occur with relative frequencies ($P(n)$) given by the **binomial pmf**.\n",
    "    \n",
    "- **Binomial pmf**: \n",
    " $$  f (n; N, P) = \\frac{N!}{n!(N - n)!} P^{n} (1-P)^{N-n} $$\n",
    " \n",
    "- Nice and intuitive derivation in Cowan section 2.1\n",
    "\n",
    "- Special case of **multinomial** pmf with arbitrary number of possible results.\n"
   ]
  },
  {
   "cell_type": "code",
   "execution_count": 2,
   "metadata": {
    "slideshow": {
     "slide_type": "slide"
    }
   },
   "outputs": [],
   "source": [
    "#binomial distribution\n",
    "P = 0.5\n",
    "\n",
    "N_exps = 5000\n",
    "N = 5000\n",
    "n = 0\n",
    "\n",
    "results = np.array([])\n",
    "\n",
    "for exp in range(0, N_exps):\n",
    "    n = 0\n",
    "    for tr in range(0, N):\n",
    "        value = uniform(0, 1) # \"roll the dice\"\n",
    "        if(value < P):\n",
    "            n = n + 1\n",
    "    results = np.append(n, results)"
   ]
  },
  {
   "cell_type": "code",
   "execution_count": 3,
   "metadata": {
    "slideshow": {
     "slide_type": "slide"
    }
   },
   "outputs": [
    {
     "data": {
      "text/plain": [
       "<Figure size 432x288 with 0 Axes>"
      ]
     },
     "metadata": {},
     "output_type": "display_data"
    },
    {
     "data": {
      "image/png": "[encoded data removed]",
      "text/plain": [
       "<Figure size 432x288 with 1 Axes>"
      ]
     },
     "metadata": {
      "needs_background": "light"
     },
     "output_type": "display_data"
    }
   ],
   "source": [
    "plt.figure()\n",
    "fig, ax = plt.subplots(1, 1)\n",
    "x = np.arange(binom.ppf(0.01, N, P), binom.ppf(0.99, N, P))\n",
    "ax.plot(x, binom.pmf(x, N, P), 'r-',  label='binom pmf')\n",
    "h = plt.hist(results, bins='auto',density=True, label='experiments')\n",
    "labelx = ax.set_xlabel(\"$n$\", fontsize = 18)\n",
    "labely = ax.set_ylabel(\"f(n)\", fontsize = 18)\n",
    "plt.legend()\n",
    "plt.show()"
   ]
  },
  {
   "cell_type": "markdown",
   "metadata": {
    "slideshow": {
     "slide_type": "slide"
    }
   },
   "source": [
    "# Poisson pdf\n",
    "\n",
    "- What if the number of trials $N$ is very large but the probaility of \"success\" P is very small such that $\\nu = PN$ is some finite number\n",
    "- In this limit, the binomial pmf simplifes to \n",
    "\n",
    " $$  f (n; \\nu) = \\frac{\\nu^{n}}{n!} e^{-\\nu} $$\n",
    " \n",
    "- This is the **Poisson pdf** an incredibly important pdf to particle, nuclear, and high energy physics\n"
   ]
  },
  {
   "cell_type": "markdown",
   "metadata": {
    "slideshow": {
     "slide_type": "slide"
    }
   },
   "source": [
    "# Why is the poisson pdf so important?\n",
    "\n",
    "- Large number of trials with small probability of \"success\" describes almost all particle physics experiments\n",
    "- Radioactive decay: \n",
    "  - detector is read at high frequency for decay signal\n",
    "  - each trial has low probability for observing decay\n",
    "  - but the number of expected detected decays after a time **t** is finite"
   ]
  },
  {
   "cell_type": "code",
   "execution_count": 54,
   "metadata": {},
   "outputs": [],
   "source": [
    "P = 0.00001 # low probability of observation\n",
    "N = 500000 # but large number of trials\n",
    "N_exps = 1000 # repeating the experiment \n",
    "\n",
    "n = 0\n",
    "\n",
    "results = np.array([])\n",
    "\n",
    "for exp in range(0, N_exps):\n",
    "    n = 0\n",
    "    for tr in range(0, N):\n",
    "        value = uniform(0, 1) \n",
    "        if(value < P):\n",
    "            n = n + 1\n",
    "    results = np.append(n, results)"
   ]
  },
  {
   "cell_type": "code",
   "execution_count": 56,
   "metadata": {},
   "outputs": [
    {
     "data": {
      "text/plain": [
       "<Figure size 432x288 with 0 Axes>"
      ]
     },
     "metadata": {},
     "output_type": "display_data"
    },
    {
     "data": {
      "image/png": "[encoded data removed]",
      "text/plain": [
       "<Figure size 432x288 with 1 Axes>"
      ]
     },
     "metadata": {
      "needs_background": "light"
     },
     "output_type": "display_data"
    }
   ],
   "source": [
    "mu = N*P\n",
    "\n",
    "unResults = np.unique(results) # we extract the set values the result can assume to help us plot the pmf\n",
    "\n",
    "dataCounts, dataBins = np.histogram(results, bins=35)\n",
    "dataCountsNorm = dataCounts/(np.sum(dataCounts)) # for pmf, sum of counts must equal 1\n",
    "binCentres = (dataBins[:-1] + dataBins[1:]) / 2\n",
    "width = np.diff(dataBins)\n",
    "\n",
    "plt.figure()\n",
    "fig, ax = plt.subplots(1, 1)\n",
    "plt.bar(binCentres, dataCountsNorm, align='center', width=width, label='experiments', color='b')\n",
    "ax.plot(unResults, poisson.pmf(unResults, mu),'ro', ms=8, label='poisson pmf')\n",
    "labelx = ax.set_xlabel(\"$n$\", fontsize = 18)\n",
    "labely = ax.set_ylabel(\"f(n)\", fontsize = 18)\n",
    "plt.legend()\n",
    "plt.show()"
   ]
  },
  {
   "cell_type": "code",
   "execution_count": null,
   "metadata": {},
   "outputs": [],
   "source": []
  },
  {
   "cell_type": "code",
   "execution_count": 89,
   "metadata": {},
   "outputs": [
    {
     "data": {
      "text/plain": [
       "<Figure size 432x288 with 0 Axes>"
      ]
     },
     "metadata": {},
     "output_type": "display_data"
    },
    {
     "data": {
      "image/png": "[encoded data removed]",
      "text/plain": [
       "<Figure size 432x288 with 1 Axes>"
      ]
     },
     "metadata": {
      "needs_background": "light"
     },
     "output_type": "display_data"
    }
   ],
   "source": [
    "import numpy as np\n",
    "import pandas as pd\n",
    "df_epl = pd.read_csv(\"epl2020.csv\")\n",
    "results = np.array(df_epl[\"scored\"])\n",
    "\n",
    "unResults = np.unique(results) # we extract the set values the result can assume to help us plot the pmf\n",
    "\n",
    "dataCounts, dataBins = np.histogram(results, bins=35)\n",
    "dataCountsNorm = dataCounts/(np.sum(dataCounts)) # for pmf, sum of counts must equal 1\n",
    "binCentres = (dataBins[:-1] + dataBins[1:]) / 2\n",
    "width = np.diff(dataBins)\n",
    "\n",
    "\n",
    "mu =1.4\n",
    "\n",
    "plt.figure()\n",
    "fig, ax = plt.subplots(1, 1)\n",
    "x = np.arange(poisson.ppf(0.001, mu), poisson.ppf(0.9999999, mu))\n",
    "ax.plot(x, poisson.pmf(x, mu), 'ro', ms=8, label='poisson pmf')\n",
    "plt.bar(binCentres, dataCountsNorm, align='center', width=width, label='EPL 19/20', color='b')\n",
    "#h = plt.hist(results, bins='auto',density=True, label='EPL 19/20')\n",
    "labelx = ax.set_xlabel(\"$n$\", fontsize = 18)\n",
    "labely = ax.set_ylabel(\"f(n)\", fontsize = 18)\n",
    "plt.legend()\n",
    "plt.show()\n"
   ]
  },
  {
   "cell_type": "markdown",
   "metadata": {},
   "source": [
    "# Multinomial pmf\n",
    "\n",
    "- What if the experiment had $m$ possible outcomes instead of 2? e.g, rolling a die?\n",
    "\n",
    "- Consider the experiment of rolling a **unbiased** die $N$ times\n",
    "    - 6 possible results $x_i = \\left\\{ 1 \\dots 6 \\right\\}$ each with equal probilities $P_i = 1/6$ as $\\sum_i P_i =1$\n",
    "    \n",
    "- Repeat experiment $N_{exps}$ times\n",
    "    - $n$ would occur with relative frequencies ($P(n)$) given by the **multinomial pmf**."
   ]
  },
  {
   "cell_type": "code",
   "execution_count": 7,
   "metadata": {},
   "outputs": [
    {
     "data": {
      "image/png": "[encoded data removed]",
      "text/plain": [
       "<Figure size 432x288 with 1 Axes>"
      ]
     },
     "metadata": {
      "needs_background": "light"
     },
     "output_type": "display_data"
    }
   ],
   "source": [
    "r = randint.rvs(1, 7, size=N_exps)\n",
    "\n",
    "plt.figure()\n",
    "h = plt.hist(r, bins='auto',density=True, label='scores')\n",
    "plt.show()"
   ]
  },
  {
   "cell_type": "code",
   "execution_count": 8,
   "metadata": {},
   "outputs": [
    {
     "data": {
      "text/plain": [
       "<Figure size 432x288 with 0 Axes>"
      ]
     },
     "metadata": {},
     "output_type": "display_data"
    },
    {
     "data": {
      "image/png": "[encoded data removed]",
      "text/plain": [
       "<Figure size 432x288 with 1 Axes>"
      ]
     },
     "metadata": {
      "needs_background": "light"
     },
     "output_type": "display_data"
    }
   ],
   "source": [
    "# roll n dice and get total score\n",
    "n_rolls = 20000\n",
    "n_die  = 5\n",
    "\n",
    "total_scores = np.array([])\n",
    "total_score = 0.0\n",
    "\n",
    "for roll in range(0,n_rolls):\n",
    "    total_score = np.sum(randint.rvs(1, 7, size=n_die)) #dice\n",
    "    #total_score = np.sum(np.random.uniform(1, 7,n_die)) #random floats\n",
    "    \n",
    "    #for die in range(0, n_die):\n",
    "    #    score = randint.rvs(1, 7) \n",
    "    #    total_score = total_score + score\n",
    "    total_scores = np.append(total_scores, total_score)\n",
    "    \n",
    "plt.figure()\n",
    "fig, ax = plt.subplots(1, 1)\n",
    "text = \"total score of \" + str(n_die) + \" dice\"\n",
    "h = plt.hist(total_scores, bins='auto', density=True, label=text)\n",
    "labelx = ax.set_xlabel(\"total score\", fontsize = 18)\n",
    "labely = ax.set_ylabel(\"f(x)\", fontsize = 18)\n",
    "plt.legend()\n",
    "plt.show()"
   ]
  }
 ],
 "metadata": {
  "celltoolbar": "Slideshow",
  "kernelspec": {
   "display_name": "Python 3",
   "language": "python",
   "name": "python3"
  },
  "language_info": {
   "codemirror_mode": {
    "name": "ipython",
    "version": 3
   },
   "file_extension": ".py",
   "mimetype": "text/x-python",
   "name": "python",
   "nbconvert_exporter": "python",
   "pygments_lexer": "ipython3",
   "version": "3.7.4"
  }
 },
 "nbformat": 4,
 "nbformat_minor": 2
}
