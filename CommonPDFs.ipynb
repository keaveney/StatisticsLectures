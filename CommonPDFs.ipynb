{
 "cells": [
  {
   "cell_type": "code",
   "execution_count": 2,
   "metadata": {
    "slideshow": {
     "slide_type": "slide"
    }
   },
   "outputs": [],
   "source": [
    "import numpy as np\n",
    "from random import seed \n",
    "from random import gauss \n",
    "from random import uniform\n",
    "import matplotlib.pyplot as plt\n",
    "from scipy.stats import binom\n",
    "from scipy.stats import randint\n",
    "from scipy.stats import poisson"
   ]
  },
  {
   "cell_type": "markdown",
   "metadata": {
    "slideshow": {
     "slide_type": "slide"
    }
   },
   "source": [
    "# Binomial pmf\n",
    "\n",
    "- Consider an experiment consisting of $N$ independent trials, each with two possible results: 'success' and 'failure'\n",
    "    - probability for success in each trial is a constant, $P$. \n",
    "    - experiment characterised by $n$ (total number of successes). \n",
    "- Repeat experiment $N_{exps}$ times\n",
    "    - $n$ would occur with relative frequencies ($P(n)$) given by the **binomial pmf**.\n",
    "    \n",
    "- **Binomial pmf**: \n",
    " $$  f (n; N, P) = \\frac{N!}{n!(N - n)!} P^{n} (1-P)^{N-n} $$\n",
    " \n",
    "- Nice and intuitive derivation in Cowan section 2.1\n",
    "\n",
    "- Special case of **multinomial** pmf with arbitrary number of possible results.\n"
   ]
  },
  {
   "cell_type": "code",
   "execution_count": 3,
   "metadata": {
    "slideshow": {
     "slide_type": "slide"
    }
   },
   "outputs": [],
   "source": [
    "#binomial distribution\n",
    "P = 0.5\n",
    "\n",
    "N_exps = 5000\n",
    "N = 5000\n",
    "n = 0\n",
    "\n",
    "results = np.array([])\n",
    "\n",
    "for exp in range(0, N_exps):\n",
    "    n = 0\n",
    "    for tr in range(0, N):\n",
    "        value = uniform(0, 1) # \"roll the dice\"\n",
    "        if(value < P):\n",
    "            n = n + 1\n",
    "    results = np.append(n, results)"
   ]
  },
  {
   "cell_type": "code",
   "execution_count": 3,
   "metadata": {
    "slideshow": {
     "slide_type": "slide"
    }
   },
   "outputs": [
    {
     "data": {
      "text/plain": [
       "<Figure size 432x288 with 0 Axes>"
      ]
     },
     "metadata": {},
     "output_type": "display_data"
    },
    {
     "data": {
      "image/png": "[encoded data removed]",
      "text/plain": [
       "<Figure size 432x288 with 1 Axes>"
      ]
     },
     "metadata": {
      "needs_background": "light"
     },
     "output_type": "display_data"
    }
   ],
   "source": [
    "plt.figure()\n",
    "fig, ax = plt.subplots(1, 1)\n",
    "x = np.arange(binom.ppf(0.01, N, P), binom.ppf(0.99, N, P))\n",
    "ax.plot(x, binom.pmf(x, N, P), 'r-',  label='binom pmf')\n",
    "h = plt.hist(results, bins='auto',density=True, label='experiments')\n",
    "labelx = ax.set_xlabel(\"$n$\", fontsize = 18)\n",
    "labely = ax.set_ylabel(\"f(n)\", fontsize = 18)\n",
    "plt.legend()\n",
    "plt.show()"
   ]
  },
  {
   "cell_type": "markdown",
   "metadata": {
    "slideshow": {
     "slide_type": "slide"
    }
   },
   "source": [
    "# Poisson pdf\n",
    "\n",
    "- What if the number of trials $N$ is very large but the probaility of \"success\" P is very small such that $\\nu = PN$ is some finite number\n",
    "- In this limit, the binomial pmf simplifes to \n",
    "\n",
    " $$  f (n; \\nu) = \\frac{\\nu^{n}}{n!} e^{-\\nu} $$\n",
    " \n",
    "- This is the **Poisson pdf** an incredibly important pdf to particle, nuclear, and high energy physics\n"
   ]
  },
  {
   "cell_type": "markdown",
   "metadata": {
    "slideshow": {
     "slide_type": "slide"
    }
   },
   "source": [
    "# Why is the poisson pdf so important?\n",
    "\n",
    "- Large number of trials with small probability of \"success\" describes almost all particle physics experiments\n",
    "- Radioactive decay: \n",
    "  - detector is read at high frequency for decay signal\n",
    "  - each trial has low probability for observing decay\n",
    "  - but the number of expected detected decays after a time **t** is finite"
   ]
  },
  {
   "cell_type": "code",
   "execution_count": 42,
   "metadata": {},
   "outputs": [
    {
     "name": "stdout",
     "output_type": "stream",
     "text": [
      "CPU times: user 3 µs, sys: 0 ns, total: 3 µs\n",
      "Wall time: 7.15 µs\n"
     ]
    }
   ],
   "source": [
    "%time\n",
    "P = 0.0001 # low probability of observation\n",
    "N_trials = 100000 # but large number of 'trials'\n",
    "N_exps = 1000 # repeating the experiment \n",
    "\n",
    "trials = np.random.rand(N_exps,N_trials) # array of uniform random number between 0 and 1\n",
    "counts = np.where(trials < P, 1, 0) # corresponding array: 1 for trials with x < P, 0 for all others\n",
    "results = np.sum(counts, axis=1) # sum across rows to get vector of number of observations in each experiment"
   ]
  },
  {
   "cell_type": "code",
   "execution_count": 43,
   "metadata": {},
   "outputs": [
    {
     "data": {
      "text/plain": [
       "<Figure size 432x288 with 0 Axes>"
      ]
     },
     "metadata": {},
     "output_type": "display_data"
    },
    {
     "data": {
      "image/png": "[encoded data removed]",
      "text/plain": [
       "<Figure size 432x288 with 1 Axes>"
      ]
     },
     "metadata": {
      "needs_background": "light"
     },
     "output_type": "display_data"
    }
   ],
   "source": [
    "mu = N_trials*P\n",
    "\n",
    "unResults = np.unique(results) # we extract the set values the result can assume to help us plot the pmf\n",
    "\n",
    "dataCounts, dataBins = np.histogram(results, bins=35)\n",
    "dataCountsNorm = dataCounts/(np.sum(dataCounts)) # for pmf, sum of counts must equal 1\n",
    "binCentres = (dataBins[:-1] + dataBins[1:]) / 2\n",
    "width = np.diff(dataBins)\n",
    "\n",
    "plt.figure()\n",
    "fig, ax = plt.subplots(1, 1)\n",
    "plt.bar(binCentres, dataCountsNorm, align='center', width=width, label='experiments', color='b')\n",
    "ax.plot(unResults, poisson.pmf(unResults, mu),'ro', ms=8, label='poisson pmf')\n",
    "labelx = ax.set_xlabel(\"$n$\", fontsize = 18)\n",
    "labely = ax.set_ylabel(\"f(n)\", fontsize = 18)\n",
    "plt.legend()\n",
    "plt.show()"
   ]
  },
  {
   "cell_type": "code",
   "execution_count": 49,
   "metadata": {},
   "outputs": [
    {
     "data": {
      "text/plain": [
       "<Figure size 432x288 with 0 Axes>"
      ]
     },
     "metadata": {},
     "output_type": "display_data"
    },
    {
     "data": {
      "image/png": "[encoded data removed]",
      "text/plain": [
       "<Figure size 432x288 with 1 Axes>"
      ]
     },
     "metadata": {
      "needs_background": "light"
     },
     "output_type": "display_data"
    },
    {
     "data": {
      "text/html": [
       "<div>\n",
       "<style scoped>\n",
       "    .dataframe tbody tr th:only-of-type {\n",
       "        vertical-align: middle;\n",
       "    }\n",
       "\n",
       "    .dataframe tbody tr th {\n",
       "        vertical-align: top;\n",
       "    }\n",
       "\n",
       "    .dataframe thead th {\n",
       "        text-align: right;\n",
       "    }\n",
       "</style>\n",
       "<table border=\"1\" class=\"dataframe\">\n",
       "  <thead>\n",
       "    <tr style=\"text-align: right;\">\n",
       "      <th></th>\n",
       "      <th>Unnamed: 0</th>\n",
       "      <th>h_a</th>\n",
       "      <th>xG</th>\n",
       "      <th>xGA</th>\n",
       "      <th>npxG</th>\n",
       "      <th>npxGA</th>\n",
       "      <th>deep</th>\n",
       "      <th>deep_allowed</th>\n",
       "      <th>scored</th>\n",
       "      <th>missed</th>\n",
       "      <th>...</th>\n",
       "      <th>AF.x</th>\n",
       "      <th>AC.x</th>\n",
       "      <th>AY.x</th>\n",
       "      <th>AR.x</th>\n",
       "      <th>B365H.x</th>\n",
       "      <th>B365D.x</th>\n",
       "      <th>B365A.x</th>\n",
       "      <th>HtrgPerc</th>\n",
       "      <th>AtrgPerc</th>\n",
       "      <th>matchDay</th>\n",
       "    </tr>\n",
       "  </thead>\n",
       "  <tbody>\n",
       "    <tr>\n",
       "      <td>0</td>\n",
       "      <td>1</td>\n",
       "      <td>h</td>\n",
       "      <td>2.234560</td>\n",
       "      <td>0.842407</td>\n",
       "      <td>2.234560</td>\n",
       "      <td>0.842407</td>\n",
       "      <td>11</td>\n",
       "      <td>5</td>\n",
       "      <td>4</td>\n",
       "      <td>1</td>\n",
       "      <td>...</td>\n",
       "      <td>9</td>\n",
       "      <td>2</td>\n",
       "      <td>2</td>\n",
       "      <td>0</td>\n",
       "      <td>1.14</td>\n",
       "      <td>10.00</td>\n",
       "      <td>19.00</td>\n",
       "      <td>0.466667</td>\n",
       "      <td>0.416667</td>\n",
       "      <td>Fri</td>\n",
       "    </tr>\n",
       "    <tr>\n",
       "      <td>1</td>\n",
       "      <td>2</td>\n",
       "      <td>a</td>\n",
       "      <td>0.842407</td>\n",
       "      <td>2.234560</td>\n",
       "      <td>0.842407</td>\n",
       "      <td>2.234560</td>\n",
       "      <td>5</td>\n",
       "      <td>11</td>\n",
       "      <td>1</td>\n",
       "      <td>4</td>\n",
       "      <td>...</td>\n",
       "      <td>9</td>\n",
       "      <td>2</td>\n",
       "      <td>2</td>\n",
       "      <td>0</td>\n",
       "      <td>1.14</td>\n",
       "      <td>10.00</td>\n",
       "      <td>19.00</td>\n",
       "      <td>0.466667</td>\n",
       "      <td>0.416667</td>\n",
       "      <td>Fri</td>\n",
       "    </tr>\n",
       "    <tr>\n",
       "      <td>2</td>\n",
       "      <td>3</td>\n",
       "      <td>a</td>\n",
       "      <td>3.183770</td>\n",
       "      <td>1.200300</td>\n",
       "      <td>2.422640</td>\n",
       "      <td>1.200300</td>\n",
       "      <td>9</td>\n",
       "      <td>1</td>\n",
       "      <td>5</td>\n",
       "      <td>0</td>\n",
       "      <td>...</td>\n",
       "      <td>13</td>\n",
       "      <td>1</td>\n",
       "      <td>2</td>\n",
       "      <td>0</td>\n",
       "      <td>12.00</td>\n",
       "      <td>6.50</td>\n",
       "      <td>1.22</td>\n",
       "      <td>0.600000</td>\n",
       "      <td>0.642857</td>\n",
       "      <td>Sat</td>\n",
       "    </tr>\n",
       "    <tr>\n",
       "      <td>3</td>\n",
       "      <td>4</td>\n",
       "      <td>h</td>\n",
       "      <td>1.200300</td>\n",
       "      <td>3.183770</td>\n",
       "      <td>1.200300</td>\n",
       "      <td>2.422640</td>\n",
       "      <td>1</td>\n",
       "      <td>9</td>\n",
       "      <td>0</td>\n",
       "      <td>5</td>\n",
       "      <td>...</td>\n",
       "      <td>13</td>\n",
       "      <td>1</td>\n",
       "      <td>2</td>\n",
       "      <td>0</td>\n",
       "      <td>12.00</td>\n",
       "      <td>6.50</td>\n",
       "      <td>1.22</td>\n",
       "      <td>0.600000</td>\n",
       "      <td>0.642857</td>\n",
       "      <td>Sat</td>\n",
       "    </tr>\n",
       "    <tr>\n",
       "      <td>4</td>\n",
       "      <td>5</td>\n",
       "      <td>h</td>\n",
       "      <td>1.340990</td>\n",
       "      <td>1.598640</td>\n",
       "      <td>1.340990</td>\n",
       "      <td>1.598640</td>\n",
       "      <td>4</td>\n",
       "      <td>6</td>\n",
       "      <td>1</td>\n",
       "      <td>1</td>\n",
       "      <td>...</td>\n",
       "      <td>19</td>\n",
       "      <td>4</td>\n",
       "      <td>1</td>\n",
       "      <td>0</td>\n",
       "      <td>1.95</td>\n",
       "      <td>3.60</td>\n",
       "      <td>3.60</td>\n",
       "      <td>0.230769</td>\n",
       "      <td>0.375000</td>\n",
       "      <td>Sat</td>\n",
       "    </tr>\n",
       "    <tr>\n",
       "      <td>...</td>\n",
       "      <td>...</td>\n",
       "      <td>...</td>\n",
       "      <td>...</td>\n",
       "      <td>...</td>\n",
       "      <td>...</td>\n",
       "      <td>...</td>\n",
       "      <td>...</td>\n",
       "      <td>...</td>\n",
       "      <td>...</td>\n",
       "      <td>...</td>\n",
       "      <td>...</td>\n",
       "      <td>...</td>\n",
       "      <td>...</td>\n",
       "      <td>...</td>\n",
       "      <td>...</td>\n",
       "      <td>...</td>\n",
       "      <td>...</td>\n",
       "      <td>...</td>\n",
       "      <td>...</td>\n",
       "      <td>...</td>\n",
       "      <td>...</td>\n",
       "    </tr>\n",
       "    <tr>\n",
       "      <td>571</td>\n",
       "      <td>572</td>\n",
       "      <td>a</td>\n",
       "      <td>0.445922</td>\n",
       "      <td>2.028830</td>\n",
       "      <td>0.445922</td>\n",
       "      <td>2.028830</td>\n",
       "      <td>3</td>\n",
       "      <td>9</td>\n",
       "      <td>0</td>\n",
       "      <td>4</td>\n",
       "      <td>...</td>\n",
       "      <td>10</td>\n",
       "      <td>1</td>\n",
       "      <td>2</td>\n",
       "      <td>0</td>\n",
       "      <td>1.80</td>\n",
       "      <td>3.90</td>\n",
       "      <td>4.20</td>\n",
       "      <td>0.647059</td>\n",
       "      <td>0.333333</td>\n",
       "      <td>Sun</td>\n",
       "    </tr>\n",
       "    <tr>\n",
       "      <td>572</td>\n",
       "      <td>573</td>\n",
       "      <td>a</td>\n",
       "      <td>0.585469</td>\n",
       "      <td>1.738900</td>\n",
       "      <td>0.585469</td>\n",
       "      <td>1.738900</td>\n",
       "      <td>2</td>\n",
       "      <td>3</td>\n",
       "      <td>0</td>\n",
       "      <td>2</td>\n",
       "      <td>...</td>\n",
       "      <td>9</td>\n",
       "      <td>11</td>\n",
       "      <td>4</td>\n",
       "      <td>0</td>\n",
       "      <td>5.00</td>\n",
       "      <td>4.33</td>\n",
       "      <td>1.60</td>\n",
       "      <td>0.500000</td>\n",
       "      <td>0.285714</td>\n",
       "      <td>Sun</td>\n",
       "    </tr>\n",
       "    <tr>\n",
       "      <td>573</td>\n",
       "      <td>574</td>\n",
       "      <td>h</td>\n",
       "      <td>1.738900</td>\n",
       "      <td>0.585469</td>\n",
       "      <td>1.738900</td>\n",
       "      <td>0.585469</td>\n",
       "      <td>3</td>\n",
       "      <td>2</td>\n",
       "      <td>2</td>\n",
       "      <td>0</td>\n",
       "      <td>...</td>\n",
       "      <td>9</td>\n",
       "      <td>11</td>\n",
       "      <td>4</td>\n",
       "      <td>0</td>\n",
       "      <td>5.00</td>\n",
       "      <td>4.33</td>\n",
       "      <td>1.60</td>\n",
       "      <td>0.500000</td>\n",
       "      <td>0.285714</td>\n",
       "      <td>Sun</td>\n",
       "    </tr>\n",
       "    <tr>\n",
       "      <td>574</td>\n",
       "      <td>575</td>\n",
       "      <td>a</td>\n",
       "      <td>0.672448</td>\n",
       "      <td>2.412390</td>\n",
       "      <td>0.672448</td>\n",
       "      <td>1.651220</td>\n",
       "      <td>2</td>\n",
       "      <td>8</td>\n",
       "      <td>0</td>\n",
       "      <td>4</td>\n",
       "      <td>...</td>\n",
       "      <td>12</td>\n",
       "      <td>0</td>\n",
       "      <td>1</td>\n",
       "      <td>0</td>\n",
       "      <td>1.36</td>\n",
       "      <td>5.25</td>\n",
       "      <td>8.00</td>\n",
       "      <td>0.466667</td>\n",
       "      <td>0.250000</td>\n",
       "      <td>Mon</td>\n",
       "    </tr>\n",
       "    <tr>\n",
       "      <td>575</td>\n",
       "      <td>576</td>\n",
       "      <td>h</td>\n",
       "      <td>2.412390</td>\n",
       "      <td>0.672448</td>\n",
       "      <td>1.651220</td>\n",
       "      <td>0.672448</td>\n",
       "      <td>8</td>\n",
       "      <td>2</td>\n",
       "      <td>4</td>\n",
       "      <td>0</td>\n",
       "      <td>...</td>\n",
       "      <td>12</td>\n",
       "      <td>0</td>\n",
       "      <td>1</td>\n",
       "      <td>0</td>\n",
       "      <td>1.36</td>\n",
       "      <td>5.25</td>\n",
       "      <td>8.00</td>\n",
       "      <td>0.466667</td>\n",
       "      <td>0.250000</td>\n",
       "      <td>Mon</td>\n",
       "    </tr>\n",
       "  </tbody>\n",
       "</table>\n",
       "<p>576 rows × 45 columns</p>\n",
       "</div>"
      ],
      "text/plain": [
       "     Unnamed: 0 h_a        xG       xGA      npxG     npxGA  deep  \\\n",
       "0             1   h  2.234560  0.842407  2.234560  0.842407    11   \n",
       "1             2   a  0.842407  2.234560  0.842407  2.234560     5   \n",
       "2             3   a  3.183770  1.200300  2.422640  1.200300     9   \n",
       "3             4   h  1.200300  3.183770  1.200300  2.422640     1   \n",
       "4             5   h  1.340990  1.598640  1.340990  1.598640     4   \n",
       "..          ...  ..       ...       ...       ...       ...   ...   \n",
       "571         572   a  0.445922  2.028830  0.445922  2.028830     3   \n",
       "572         573   a  0.585469  1.738900  0.585469  1.738900     2   \n",
       "573         574   h  1.738900  0.585469  1.738900  0.585469     3   \n",
       "574         575   a  0.672448  2.412390  0.672448  1.651220     2   \n",
       "575         576   h  2.412390  0.672448  1.651220  0.672448     8   \n",
       "\n",
       "     deep_allowed  scored  missed  ...  AF.x AC.x AY.x  AR.x  B365H.x  \\\n",
       "0               5       4       1  ...     9    2    2     0     1.14   \n",
       "1              11       1       4  ...     9    2    2     0     1.14   \n",
       "2               1       5       0  ...    13    1    2     0    12.00   \n",
       "3               9       0       5  ...    13    1    2     0    12.00   \n",
       "4               6       1       1  ...    19    4    1     0     1.95   \n",
       "..            ...     ...     ...  ...   ...  ...  ...   ...      ...   \n",
       "571             9       0       4  ...    10    1    2     0     1.80   \n",
       "572             3       0       2  ...     9   11    4     0     5.00   \n",
       "573             2       2       0  ...     9   11    4     0     5.00   \n",
       "574             8       0       4  ...    12    0    1     0     1.36   \n",
       "575             2       4       0  ...    12    0    1     0     1.36   \n",
       "\n",
       "     B365D.x  B365A.x  HtrgPerc  AtrgPerc  matchDay  \n",
       "0      10.00    19.00  0.466667  0.416667       Fri  \n",
       "1      10.00    19.00  0.466667  0.416667       Fri  \n",
       "2       6.50     1.22  0.600000  0.642857       Sat  \n",
       "3       6.50     1.22  0.600000  0.642857       Sat  \n",
       "4       3.60     3.60  0.230769  0.375000       Sat  \n",
       "..       ...      ...       ...       ...       ...  \n",
       "571     3.90     4.20  0.647059  0.333333       Sun  \n",
       "572     4.33     1.60  0.500000  0.285714       Sun  \n",
       "573     4.33     1.60  0.500000  0.285714       Sun  \n",
       "574     5.25     8.00  0.466667  0.250000       Mon  \n",
       "575     5.25     8.00  0.466667  0.250000       Mon  \n",
       "\n",
       "[576 rows x 45 columns]"
      ]
     },
     "execution_count": 49,
     "metadata": {},
     "output_type": "execute_result"
    }
   ],
   "source": [
    "import numpy as np\n",
    "import pandas as pd\n",
    "df_epl = pd.read_csv(\"epl2020.csv\")\n",
    "df_epl\n",
    "results = np.array(df_epl[\"scored\"])\n",
    "\n",
    "unResults = np.unique(results) # we extract the set values the result can assume to help us plot the pmf\n",
    "\n",
    "dataCounts, dataBins = np.histogram(results, bins=35)\n",
    "dataCountsNorm = dataCounts/(np.sum(dataCounts)) # for pmf, sum of counts must equal 1\n",
    "binCentres = (dataBins[:-1] + dataBins[1:]) / 2\n",
    "width = np.diff(dataBins)\n",
    "\n",
    "\n",
    "mu = 1.4\n",
    "\n",
    "plt.figure()\n",
    "fig, ax = plt.subplots(1, 1)\n",
    "x = np.arange(poisson.ppf(0.001, mu), poisson.ppf(0.9999999, mu))\n",
    "ax.plot(x, poisson.pmf(x, mu), 'ro', ms=8, label='poisson pmf')\n",
    "plt.bar(binCentres, dataCountsNorm, align='center', width=width, label='EPL 19/20', color='b')\n",
    "labelx = ax.set_xlabel(\"$n$\", fontsize = 18)\n",
    "labely = ax.set_ylabel(\"f(n)\", fontsize = 18)\n",
    "plt.legend()\n",
    "plt.show()\n",
    "df_epl\n"
   ]
  },
  {
   "cell_type": "code",
   "execution_count": 133,
   "metadata": {},
   "outputs": [
    {
     "data": {
      "text/plain": [
       "array([0, 0, 0, 0, 0, 0, 0, 1, 1, 0, 0, 0, 1, 0, 2, 0, 0, 0, 1, 0, 0, 0,\n",
       "       0, 0, 0, 0, 1, 1, 2, 0, 0, 0, 0, 0, 1, 1, 0, 0, 1, 0, 2, 0, 1, 2,\n",
       "       2, 1, 1, 0, 0, 0, 0, 0, 1, 0, 1, 0, 0, 0, 0, 1, 1, 2, 2, 0, 1, 0,\n",
       "       0, 2, 1, 0, 0, 3, 2, 1, 1, 1, 0, 0, 0, 2, 1, 4, 3, 0, 1, 0, 0, 2,\n",
       "       1, 0, 0, 1, 0, 1, 0, 0, 0, 0, 1, 2, 0, 0, 0, 0, 1, 0, 1, 1, 2, 1,\n",
       "       4, 1, 0, 0, 1, 2, 0, 1, 2, 1, 0, 1, 0, 3, 0, 0, 3, 0, 1, 0, 0, 0,\n",
       "       0, 1, 0, 0, 2, 0, 1, 1, 0, 0, 0, 0, 0, 0, 1, 0, 0, 2, 0, 1, 0, 1,\n",
       "       2, 1, 0, 0, 1, 1, 1, 0, 0, 1, 0, 1, 3, 0, 1, 1, 2, 1, 0, 0, 3, 2,\n",
       "       1, 1, 0, 1, 2, 0, 0, 1, 1, 0, 0, 1, 1, 0, 0, 0, 0, 1, 1, 0, 0, 0,\n",
       "       1, 1, 0, 1, 1, 0, 0, 1, 2, 2, 0, 2, 1, 2, 0, 2, 0, 1, 1, 2, 0, 2,\n",
       "       1, 1, 2, 2, 0, 0, 0, 1, 1, 1, 0, 1, 1, 0, 3, 3, 1, 0, 1, 3, 2, 0,\n",
       "       1, 1, 3, 0, 1, 1, 0, 1, 1, 0, 0, 1, 0, 0, 0, 1, 0, 2, 0, 0, 1, 3,\n",
       "       0, 0, 1, 0, 0, 0, 0, 0, 0, 0, 1, 0, 1, 1, 0, 0])"
      ]
     },
     "execution_count": 133,
     "metadata": {},
     "output_type": "execute_result"
    }
   ],
   "source": [
    "dfPrussianHorses = pd.read_table(\"HorseKicks.txt\")\n",
    "#dfPrussianHorses['Total']= dfPrussianHorses.iloc[:, -14:-1].sum(axis=1)\n",
    "dfPrussianHorsesData = dfPrussianHorses.iloc[:, 1:15]\n",
    "data = dfPrussianHorsesData.to_numpy().ravel()\n",
    "data"
   ]
  },
  {
   "cell_type": "code",
   "execution_count": 162,
   "metadata": {},
   "outputs": [
    {
     "name": "stdout",
     "output_type": "stream",
     "text": [
      "[0, 1, 2, 3, 4, 5, 6, 7]\n"
     ]
    },
    {
     "data": {
      "text/plain": [
       "<matplotlib.legend.Legend at 0x12e6ca890>"
      ]
     },
     "execution_count": 162,
     "metadata": {},
     "output_type": "execute_result"
    },
    {
     "data": {
      "text/plain": [
       "<Figure size 432x288 with 0 Axes>"
      ]
     },
     "metadata": {},
     "output_type": "display_data"
    },
    {
     "data": {
      "image/png": "[encoded data removed]",
      "text/plain": [
       "<Figure size 432x288 with 1 Axes>"
      ]
     },
     "metadata": {
      "needs_background": "light"
     },
     "output_type": "display_data"
    }
   ],
   "source": [
    "plt.figure()\n",
    "fig, ax = plt.subplots(1, 1)\n",
    "unResults = np.unique(dfPrussianHorses)\n",
    "\n",
    "bins = [x for x in range(8)]\n",
    "\n",
    "dataCounts, dataBins = np.histogram(data, bins=bins)\n",
    "dataCountsNorm = dataCounts/(np.sum(dataCounts)) # for pmf, sum of counts must equal 1\n",
    "binCentres = (dataBins[:-1] + dataBins[1:]) / 2\n",
    "\n",
    "print(bins)\n",
    "\n",
    "poisBins = bins[0:7]\n",
    "ax.plot(binCentres, poisson.pmf(poisBins, 0.7), 'ro', ms=8, label='poisson pmf')\n",
    "plt.bar(binCentres, dataCountsNorm, align='center', label='Prussian records 1875-1894', color='b')\n",
    "\n",
    "#h = plt.hist(data, bins=bins,density=True, label='Prussian records 1875-1894')\n",
    "plt.legend()"
   ]
  },
  {
   "cell_type": "code",
   "execution_count": 8,
   "metadata": {},
   "outputs": [
    {
     "data": {
      "text/plain": [
       "[<matplotlib.lines.Line2D at 0x12ab59bd0>]"
      ]
     },
     "execution_count": 8,
     "metadata": {},
     "output_type": "execute_result"
    },
    {
     "data": {
      "image/png": "[encoded data removed]",
      "text/plain": [
       "<Figure size 432x288 with 1 Axes>"
      ]
     },
     "metadata": {
      "needs_background": "light"
     },
     "output_type": "display_data"
    }
   ],
   "source": [
    "from scipy.stats import crystalball\n",
    "beta, m = 2, 3\n",
    "mean, var, skew, kurt = crystalball.stats(beta, m, moments='mvsk')\n",
    "\n",
    "fig, ax = plt.subplots(1, 1)\n",
    "\n",
    "x = np.linspace(crystalball.ppf(0.01, beta, m), crystalball.ppf(0.99, beta, m), 100)\n",
    "\n",
    "ax.plot(x, crystalball.pdf(x, beta, m), 'r-', lw=5, alpha=0.6, label='crystalball pdf')"
   ]
  },
  {
   "cell_type": "markdown",
   "metadata": {},
   "source": [
    "# Multinomial pmf\n",
    "\n",
    "- What if the experiment had $m$ possible outcomes instead of 2? e.g, rolling a die?\n",
    "\n",
    "- Consider the experiment of rolling a **unbiased** die $N$ times\n",
    "    - 6 possible results $x_i = \\left\\{ 1 \\dots 6 \\right\\}$ each with equal probilities $P_i = 1/6$ as $\\sum_i P_i =1$\n",
    "    \n",
    "- Repeat experiment $N_{exps}$ times\n",
    "    - $n$ would occur with relative frequencies ($P(n)$) given by the **multinomial pmf**."
   ]
  },
  {
   "cell_type": "code",
   "execution_count": 7,
   "metadata": {},
   "outputs": [
    {
     "data": {
      "image/png": "[encoded data removed]",
      "text/plain": [
       "<Figure size 432x288 with 1 Axes>"
      ]
     },
     "metadata": {
      "needs_background": "light"
     },
     "output_type": "display_data"
    }
   ],
   "source": [
    "r = randint.rvs(1, 7, size=N_exps)\n",
    "\n",
    "plt.figure()\n",
    "h = plt.hist(r, bins='auto',density=True, label='scores')\n",
    "plt.show()"
   ]
  },
  {
   "cell_type": "code",
   "execution_count": 8,
   "metadata": {},
   "outputs": [
    {
     "data": {
      "text/plain": [
       "<Figure size 432x288 with 0 Axes>"
      ]
     },
     "metadata": {},
     "output_type": "display_data"
    },
    {
     "data": {
      "image/png": "[encoded data removed]",
      "text/plain": [
       "<Figure size 432x288 with 1 Axes>"
      ]
     },
     "metadata": {
      "needs_background": "light"
     },
     "output_type": "display_data"
    }
   ],
   "source": [
    "# roll n dice and get total score\n",
    "n_rolls = 20000\n",
    "n_die  = 5\n",
    "\n",
    "total_scores = np.array([])\n",
    "total_score = 0.0\n",
    "\n",
    "for roll in range(0,n_rolls):\n",
    "    total_score = np.sum(randint.rvs(1, 7, size=n_die)) #dice\n",
    "    #total_score = np.sum(np.random.uniform(1, 7,n_die)) #random floats\n",
    "    \n",
    "    #for die in range(0, n_die):\n",
    "    #    score = randint.rvs(1, 7) \n",
    "    #    total_score = total_score + score\n",
    "    total_scores = np.append(total_scores, total_score)\n",
    "    \n",
    "plt.figure()\n",
    "fig, ax = plt.subplots(1, 1)\n",
    "text = \"total score of \" + str(n_die) + \" dice\"\n",
    "h = plt.hist(total_scores, bins='auto', density=True, label=text)\n",
    "labelx = ax.set_xlabel(\"total score\", fontsize = 18)\n",
    "labely = ax.set_ylabel(\"f(x)\", fontsize = 18)\n",
    "plt.legend()\n",
    "plt.show()"
   ]
  }
 ],
 "metadata": {
  "celltoolbar": "Slideshow",
  "kernelspec": {
   "display_name": "Python 3",
   "language": "python",
   "name": "python3"
  },
  "language_info": {
   "codemirror_mode": {
    "name": "ipython",
    "version": 3
   },
   "file_extension": ".py",
   "mimetype": "text/x-python",
   "name": "python",
   "nbconvert_exporter": "python",
   "pygments_lexer": "ipython3",
   "version": "3.7.4"
  }
 },
 "nbformat": 4,
 "nbformat_minor": 2
}
