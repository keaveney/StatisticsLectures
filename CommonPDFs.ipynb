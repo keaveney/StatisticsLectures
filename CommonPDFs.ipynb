{
 "cells": [
  {
   "cell_type": "markdown",
   "metadata": {
    "slideshow": {
     "slide_type": "slide"
    }
   },
   "source": [
    "# Common distributions in particle physics\n"
   ]
  },
  {
   "cell_type": "code",
   "execution_count": 1,
   "metadata": {
    "slideshow": {
     "slide_type": "slide"
    }
   },
   "outputs": [],
   "source": [
    "import numpy as np\n",
    "import pandas as pd\n",
    "\n",
    "from random import seed \n",
    "from random import gauss \n",
    "from random import uniform\n",
    "import matplotlib.pyplot as plt\n",
    "from scipy.stats import binom\n",
    "from scipy.stats import randint\n",
    "from scipy.stats import poisson\n",
    "from scipy.stats import norm\n",
    "from scipy.stats import uniform"
   ]
  },
  {
   "cell_type": "markdown",
   "metadata": {
    "slideshow": {
     "slide_type": "slide"
    }
   },
   "source": [
    "# Binomial pmf\n",
    "\n",
    "- Consider an experiment consisting of $N$ independent trials, each with two possible results: 'success' and 'failure'\n",
    "    - probability for success in each trial is a constant, $P$. \n",
    "    - experiment characterised by $n$ (total number of successes). \n",
    "- Repeat experiment $N_{exps}$ times\n",
    "    - $n$ would occur with relative frequencies ($P(n)$) given by the **binomial pmf**.\n",
    "    \n",
    "- **Binomial pmf**: \n",
    " $$  f (n; N, P) = \\frac{N!}{n!(N - n)!} P^{n} (1-P)^{N-n} $$\n",
    " \n",
    "- Nice and intuitive derivation in Cowan section 2.1\n",
    "\n",
    "- Special case of **multinomial** pmf with arbitrary number of possible results.\n"
   ]
  },
  {
   "cell_type": "code",
   "execution_count": 2,
   "metadata": {
    "slideshow": {
     "slide_type": "slide"
    }
   },
   "outputs": [],
   "source": [
    "#binomial distribution\n",
    "P = 0.5 # unbiased coin\n",
    "\n",
    "N_exps = 5000\n",
    "N_tosses = 5000\n",
    "\n",
    "trials = np.random.rand(N_exps,N_tosses) # array of uniform random number between 0 and 1\n",
    "counts = np.where(trials < P, 1, 0) # corresponding array: 1 for trials with x < P, 0 for all others\n",
    "results = np.sum(counts, axis=1) # sum across rows to get vector of number of observations in each experiment"
   ]
  },
  {
   "cell_type": "code",
   "execution_count": 3,
   "metadata": {
    "slideshow": {
     "slide_type": "slide"
    }
   },
   "outputs": [
    {
     "data": {
      "text/plain": [
       "<Figure size 432x288 with 0 Axes>"
      ]
     },
     "metadata": {},
     "output_type": "display_data"
    },
    {
     "data": {
      "image/png": "[encoded data removed]",
      "text/plain": [
       "<Figure size 432x288 with 1 Axes>"
      ]
     },
     "metadata": {
      "needs_background": "light"
     },
     "output_type": "display_data"
    }
   ],
   "source": [
    "plt.figure()\n",
    "fig, ax = plt.subplots(1, 1)\n",
    "x = np.arange(binom.ppf(0.01, N_tosses, P), binom.ppf(0.99, N_tosses, P))\n",
    "ax.plot(x, binom.pmf(x, N_tosses, P), 'r-',  label='binom pmf')\n",
    "h = plt.hist(results, bins='auto',density=True, label='experiments')\n",
    "labelx = ax.set_xlabel(\"$n$\", fontsize = 18)\n",
    "labely = ax.set_ylabel(\"f(n)\", fontsize = 18)\n",
    "plt.legend()\n",
    "plt.show()"
   ]
  },
  {
   "cell_type": "markdown",
   "metadata": {
    "slideshow": {
     "slide_type": "slide"
    }
   },
   "source": [
    "# Poisson pmf\n",
    "\n",
    "- What if the number of trials $N$ is very large but the probaility of \"success\" P is very small such that $\\nu = PN$ is some finite number\n",
    "- In this limit, the binomial pmf simplifes to \n",
    "\n",
    " $$  f (n; \\nu) = \\frac{\\nu^{n}}{n!} e^{-\\nu} $$\n",
    " \n",
    "- This is the **Poisson pmf** an incredibly important pdf to particle, nuclear, and high energy physics\n"
   ]
  },
  {
   "cell_type": "markdown",
   "metadata": {
    "slideshow": {
     "slide_type": "slide"
    }
   },
   "source": [
    "# Why is the poisson pmf so important?\n",
    "\n",
    "- Large number of trials with small probability of \"success\" describes almost all particle physics experiments\n",
    "- Radioactive decay: \n",
    "  - detector is read at high frequency for decay signal\n",
    "  - each trial has low probability for observing decay\n",
    "  - but the number of expected detected decays after a time **t** is finite"
   ]
  },
  {
   "cell_type": "code",
   "execution_count": 4,
   "metadata": {
    "slideshow": {
     "slide_type": "slide"
    }
   },
   "outputs": [
    {
     "name": "stdout",
     "output_type": "stream",
     "text": [
      "CPU times: user 2 µs, sys: 0 ns, total: 2 µs\n",
      "Wall time: 3.81 µs\n"
     ]
    }
   ],
   "source": [
    "%time\n",
    "P = 0.0001 # low probability of observation\n",
    "N_trials = 100000 # but large number of 'trials'\n",
    "N_exps = 1000 # repeating the experiment \n",
    "\n",
    "trials = np.random.rand(N_exps,N_trials) # array of uniform random number between 0 and 1\n",
    "counts = np.where(trials < P, 1, 0) # corresponding array: 1 for trials with x < P, 0 for all others\n",
    "results = np.sum(counts, axis=1) # sum across rows to get vector of number of observations in each experiment"
   ]
  },
  {
   "cell_type": "code",
   "execution_count": 5,
   "metadata": {
    "slideshow": {
     "slide_type": "slide"
    }
   },
   "outputs": [
    {
     "name": "stdout",
     "output_type": "stream",
     "text": [
      "10.0\n"
     ]
    },
    {
     "data": {
      "text/plain": [
       "<Figure size 432x288 with 0 Axes>"
      ]
     },
     "metadata": {},
     "output_type": "display_data"
    },
    {
     "data": {
      "image/png": "[encoded data removed]",
      "text/plain": [
       "<Figure size 432x288 with 1 Axes>"
      ]
     },
     "metadata": {
      "needs_background": "light"
     },
     "output_type": "display_data"
    }
   ],
   "source": [
    "mu = N_trials*P\n",
    "\n",
    "unResults = np.unique(results) # we extract the set values the result can assume to help us plot the pmf\n",
    "\n",
    "dataCounts, dataBins = np.histogram(results, bins=100)\n",
    "dataCountsNorm = dataCounts/(np.sum(dataCounts)) # for pmf, sum of counts must equal 1\n",
    "binCentres = (dataBins[:-1] + dataBins[1:]) / 2\n",
    "width = np.diff(dataBins)\n",
    "\n",
    "plt.figure()\n",
    "fig, ax = plt.subplots(1, 1)\n",
    "plt.bar(binCentres, dataCountsNorm, align='center', width=width, label='experiments', color='b')\n",
    "print(mu)\n",
    "#x= np.linspace(2400,2600,201)\n",
    "#print(x) \n",
    "ax.plot(unResults, poisson.pmf(unResults, mu),'ro', ms=8, label='poisson pmf')\n",
    "labelx = ax.set_xlabel(\"$n$\", fontsize = 18)\n",
    "labely = ax.set_ylabel(\"f(n)\", fontsize = 18)\n",
    "plt.legend()\n",
    "plt.show()"
   ]
  },
  {
   "cell_type": "code",
   "execution_count": 6,
   "metadata": {
    "slideshow": {
     "slide_type": "slide"
    }
   },
   "outputs": [
    {
     "data": {
      "text/plain": [
       "<Figure size 432x288 with 0 Axes>"
      ]
     },
     "metadata": {},
     "output_type": "display_data"
    },
    {
     "data": {
      "image/png": "[encoded data removed]",
      "text/plain": [
       "<Figure size 432x288 with 1 Axes>"
      ]
     },
     "metadata": {
      "needs_background": "light"
     },
     "output_type": "display_data"
    }
   ],
   "source": [
    "df_epl = pd.read_csv(\"epl2020.csv\")\n",
    "results = np.array(df_epl[\"scored\"])\n",
    "unResults = np.unique(results) # we extract the set values the result can assume to help us plot the pmf\n",
    "\n",
    "dataCounts, dataBins = np.histogram(results, bins=35)\n",
    "dataCountsNorm = dataCounts/(np.sum(dataCounts)) # for pmf, sum of counts must equal 1\n",
    "binCentres = (dataBins[:-1] + dataBins[1:]) / 2\n",
    "width = np.diff(dataBins)\n",
    "\n",
    "mu = 1.4 # an educated guess...I watch a lot of football\n",
    "\n",
    "plt.figure()\n",
    "fig, ax = plt.subplots(1, 1)\n",
    "x = np.arange(poisson.ppf(0.001, mu), poisson.ppf(0.9999999, mu))\n",
    "ax.plot(x, poisson.pmf(x, mu), 'ro', ms=8, label='poisson pmf')\n",
    "plt.bar(binCentres, dataCountsNorm, align='center', width=width, label='EPL 19/20', color='b')\n",
    "labelx = ax.set_xlabel(\"number of goals\", fontsize = 18)\n",
    "labely = ax.set_ylabel(\"number of games / total\", fontsize = 18)\n",
    "plt.legend()\n",
    "plt.show()"
   ]
  },
  {
   "cell_type": "markdown",
   "metadata": {
    "slideshow": {
     "slide_type": "slide"
    }
   },
   "source": [
    "# The 'classic' poisson example: death by Prussian horse kick\n",
    "\n",
    "- In a classic example, Bortkiewicz (1898) studied the distribution of... \n",
    "    - **122 men kicked to death by horses among ten Prussian army corps over 20 years.**\n",
    "- In most years in most corps, no one dies from being kicked; in one corp in one year, four men were kicked to death.\n",
    "   - Does this mean something was amiss in this particular corp?  "
   ]
  },
  {
   "cell_type": "code",
   "execution_count": 7,
   "metadata": {
    "slideshow": {
     "slide_type": "slide"
    }
   },
   "outputs": [
    {
     "data": {
      "text/html": [
       "<div>\n",
       "<style scoped>\n",
       "    .dataframe tbody tr th:only-of-type {\n",
       "        vertical-align: middle;\n",
       "    }\n",
       "\n",
       "    .dataframe tbody tr th {\n",
       "        vertical-align: top;\n",
       "    }\n",
       "\n",
       "    .dataframe thead th {\n",
       "        text-align: right;\n",
       "    }\n",
       "</style>\n",
       "<table border=\"1\" class=\"dataframe\">\n",
       "  <thead>\n",
       "    <tr style=\"text-align: right;\">\n",
       "      <th></th>\n",
       "      <th>Year</th>\n",
       "      <th>GC</th>\n",
       "      <th>C1</th>\n",
       "      <th>C2</th>\n",
       "      <th>C3</th>\n",
       "      <th>C4</th>\n",
       "      <th>C5</th>\n",
       "      <th>C6</th>\n",
       "      <th>C7</th>\n",
       "      <th>C8</th>\n",
       "      <th>C9</th>\n",
       "      <th>C10</th>\n",
       "      <th>C11</th>\n",
       "      <th>C14</th>\n",
       "      <th>C15</th>\n",
       "    </tr>\n",
       "  </thead>\n",
       "  <tbody>\n",
       "    <tr>\n",
       "      <td>0</td>\n",
       "      <td>1875</td>\n",
       "      <td>0</td>\n",
       "      <td>0</td>\n",
       "      <td>0</td>\n",
       "      <td>0</td>\n",
       "      <td>0</td>\n",
       "      <td>0</td>\n",
       "      <td>0</td>\n",
       "      <td>1</td>\n",
       "      <td>1</td>\n",
       "      <td>0</td>\n",
       "      <td>0</td>\n",
       "      <td>0</td>\n",
       "      <td>1</td>\n",
       "      <td>0</td>\n",
       "    </tr>\n",
       "    <tr>\n",
       "      <td>1</td>\n",
       "      <td>1876</td>\n",
       "      <td>2</td>\n",
       "      <td>0</td>\n",
       "      <td>0</td>\n",
       "      <td>0</td>\n",
       "      <td>1</td>\n",
       "      <td>0</td>\n",
       "      <td>0</td>\n",
       "      <td>0</td>\n",
       "      <td>0</td>\n",
       "      <td>0</td>\n",
       "      <td>0</td>\n",
       "      <td>0</td>\n",
       "      <td>1</td>\n",
       "      <td>1</td>\n",
       "    </tr>\n",
       "    <tr>\n",
       "      <td>2</td>\n",
       "      <td>1877</td>\n",
       "      <td>2</td>\n",
       "      <td>0</td>\n",
       "      <td>0</td>\n",
       "      <td>0</td>\n",
       "      <td>0</td>\n",
       "      <td>0</td>\n",
       "      <td>1</td>\n",
       "      <td>1</td>\n",
       "      <td>0</td>\n",
       "      <td>0</td>\n",
       "      <td>1</td>\n",
       "      <td>0</td>\n",
       "      <td>2</td>\n",
       "      <td>0</td>\n",
       "    </tr>\n",
       "    <tr>\n",
       "      <td>3</td>\n",
       "      <td>1878</td>\n",
       "      <td>1</td>\n",
       "      <td>2</td>\n",
       "      <td>2</td>\n",
       "      <td>1</td>\n",
       "      <td>1</td>\n",
       "      <td>0</td>\n",
       "      <td>0</td>\n",
       "      <td>0</td>\n",
       "      <td>0</td>\n",
       "      <td>0</td>\n",
       "      <td>1</td>\n",
       "      <td>0</td>\n",
       "      <td>1</td>\n",
       "      <td>0</td>\n",
       "    </tr>\n",
       "    <tr>\n",
       "      <td>4</td>\n",
       "      <td>1879</td>\n",
       "      <td>0</td>\n",
       "      <td>0</td>\n",
       "      <td>0</td>\n",
       "      <td>1</td>\n",
       "      <td>1</td>\n",
       "      <td>2</td>\n",
       "      <td>2</td>\n",
       "      <td>0</td>\n",
       "      <td>1</td>\n",
       "      <td>0</td>\n",
       "      <td>0</td>\n",
       "      <td>2</td>\n",
       "      <td>1</td>\n",
       "      <td>0</td>\n",
       "    </tr>\n",
       "    <tr>\n",
       "      <td>5</td>\n",
       "      <td>1880</td>\n",
       "      <td>0</td>\n",
       "      <td>3</td>\n",
       "      <td>2</td>\n",
       "      <td>1</td>\n",
       "      <td>1</td>\n",
       "      <td>1</td>\n",
       "      <td>0</td>\n",
       "      <td>0</td>\n",
       "      <td>0</td>\n",
       "      <td>2</td>\n",
       "      <td>1</td>\n",
       "      <td>4</td>\n",
       "      <td>3</td>\n",
       "      <td>0</td>\n",
       "    </tr>\n",
       "    <tr>\n",
       "      <td>6</td>\n",
       "      <td>1881</td>\n",
       "      <td>1</td>\n",
       "      <td>0</td>\n",
       "      <td>0</td>\n",
       "      <td>2</td>\n",
       "      <td>1</td>\n",
       "      <td>0</td>\n",
       "      <td>0</td>\n",
       "      <td>1</td>\n",
       "      <td>0</td>\n",
       "      <td>1</td>\n",
       "      <td>0</td>\n",
       "      <td>0</td>\n",
       "      <td>0</td>\n",
       "      <td>0</td>\n",
       "    </tr>\n",
       "    <tr>\n",
       "      <td>7</td>\n",
       "      <td>1882</td>\n",
       "      <td>1</td>\n",
       "      <td>2</td>\n",
       "      <td>0</td>\n",
       "      <td>0</td>\n",
       "      <td>0</td>\n",
       "      <td>0</td>\n",
       "      <td>1</td>\n",
       "      <td>0</td>\n",
       "      <td>1</td>\n",
       "      <td>1</td>\n",
       "      <td>2</td>\n",
       "      <td>1</td>\n",
       "      <td>4</td>\n",
       "      <td>1</td>\n",
       "    </tr>\n",
       "    <tr>\n",
       "      <td>8</td>\n",
       "      <td>1883</td>\n",
       "      <td>0</td>\n",
       "      <td>0</td>\n",
       "      <td>1</td>\n",
       "      <td>2</td>\n",
       "      <td>0</td>\n",
       "      <td>1</td>\n",
       "      <td>2</td>\n",
       "      <td>1</td>\n",
       "      <td>0</td>\n",
       "      <td>1</td>\n",
       "      <td>0</td>\n",
       "      <td>3</td>\n",
       "      <td>0</td>\n",
       "      <td>0</td>\n",
       "    </tr>\n",
       "    <tr>\n",
       "      <td>9</td>\n",
       "      <td>1884</td>\n",
       "      <td>3</td>\n",
       "      <td>0</td>\n",
       "      <td>1</td>\n",
       "      <td>0</td>\n",
       "      <td>0</td>\n",
       "      <td>0</td>\n",
       "      <td>0</td>\n",
       "      <td>1</td>\n",
       "      <td>0</td>\n",
       "      <td>0</td>\n",
       "      <td>2</td>\n",
       "      <td>0</td>\n",
       "      <td>1</td>\n",
       "      <td>1</td>\n",
       "    </tr>\n",
       "    <tr>\n",
       "      <td>10</td>\n",
       "      <td>1885</td>\n",
       "      <td>0</td>\n",
       "      <td>0</td>\n",
       "      <td>0</td>\n",
       "      <td>0</td>\n",
       "      <td>0</td>\n",
       "      <td>0</td>\n",
       "      <td>1</td>\n",
       "      <td>0</td>\n",
       "      <td>0</td>\n",
       "      <td>2</td>\n",
       "      <td>0</td>\n",
       "      <td>1</td>\n",
       "      <td>0</td>\n",
       "      <td>1</td>\n",
       "    </tr>\n",
       "    <tr>\n",
       "      <td>11</td>\n",
       "      <td>1886</td>\n",
       "      <td>2</td>\n",
       "      <td>1</td>\n",
       "      <td>0</td>\n",
       "      <td>0</td>\n",
       "      <td>1</td>\n",
       "      <td>1</td>\n",
       "      <td>1</td>\n",
       "      <td>0</td>\n",
       "      <td>0</td>\n",
       "      <td>1</td>\n",
       "      <td>0</td>\n",
       "      <td>1</td>\n",
       "      <td>3</td>\n",
       "      <td>0</td>\n",
       "    </tr>\n",
       "    <tr>\n",
       "      <td>12</td>\n",
       "      <td>1887</td>\n",
       "      <td>1</td>\n",
       "      <td>1</td>\n",
       "      <td>2</td>\n",
       "      <td>1</td>\n",
       "      <td>0</td>\n",
       "      <td>0</td>\n",
       "      <td>3</td>\n",
       "      <td>2</td>\n",
       "      <td>1</td>\n",
       "      <td>1</td>\n",
       "      <td>0</td>\n",
       "      <td>1</td>\n",
       "      <td>2</td>\n",
       "      <td>0</td>\n",
       "    </tr>\n",
       "    <tr>\n",
       "      <td>13</td>\n",
       "      <td>1888</td>\n",
       "      <td>0</td>\n",
       "      <td>1</td>\n",
       "      <td>1</td>\n",
       "      <td>0</td>\n",
       "      <td>0</td>\n",
       "      <td>1</td>\n",
       "      <td>1</td>\n",
       "      <td>0</td>\n",
       "      <td>0</td>\n",
       "      <td>0</td>\n",
       "      <td>0</td>\n",
       "      <td>1</td>\n",
       "      <td>1</td>\n",
       "      <td>0</td>\n",
       "    </tr>\n",
       "    <tr>\n",
       "      <td>14</td>\n",
       "      <td>1889</td>\n",
       "      <td>0</td>\n",
       "      <td>0</td>\n",
       "      <td>1</td>\n",
       "      <td>1</td>\n",
       "      <td>0</td>\n",
       "      <td>1</td>\n",
       "      <td>1</td>\n",
       "      <td>0</td>\n",
       "      <td>0</td>\n",
       "      <td>1</td>\n",
       "      <td>2</td>\n",
       "      <td>2</td>\n",
       "      <td>0</td>\n",
       "      <td>2</td>\n",
       "    </tr>\n",
       "    <tr>\n",
       "      <td>15</td>\n",
       "      <td>1890</td>\n",
       "      <td>1</td>\n",
       "      <td>2</td>\n",
       "      <td>0</td>\n",
       "      <td>2</td>\n",
       "      <td>0</td>\n",
       "      <td>1</td>\n",
       "      <td>1</td>\n",
       "      <td>2</td>\n",
       "      <td>0</td>\n",
       "      <td>2</td>\n",
       "      <td>1</td>\n",
       "      <td>1</td>\n",
       "      <td>2</td>\n",
       "      <td>2</td>\n",
       "    </tr>\n",
       "    <tr>\n",
       "      <td>16</td>\n",
       "      <td>1891</td>\n",
       "      <td>0</td>\n",
       "      <td>0</td>\n",
       "      <td>0</td>\n",
       "      <td>1</td>\n",
       "      <td>1</td>\n",
       "      <td>1</td>\n",
       "      <td>0</td>\n",
       "      <td>1</td>\n",
       "      <td>1</td>\n",
       "      <td>0</td>\n",
       "      <td>3</td>\n",
       "      <td>3</td>\n",
       "      <td>1</td>\n",
       "      <td>0</td>\n",
       "    </tr>\n",
       "    <tr>\n",
       "      <td>17</td>\n",
       "      <td>1892</td>\n",
       "      <td>1</td>\n",
       "      <td>3</td>\n",
       "      <td>2</td>\n",
       "      <td>0</td>\n",
       "      <td>1</td>\n",
       "      <td>1</td>\n",
       "      <td>3</td>\n",
       "      <td>0</td>\n",
       "      <td>1</td>\n",
       "      <td>1</td>\n",
       "      <td>0</td>\n",
       "      <td>1</td>\n",
       "      <td>1</td>\n",
       "      <td>0</td>\n",
       "    </tr>\n",
       "    <tr>\n",
       "      <td>18</td>\n",
       "      <td>1893</td>\n",
       "      <td>0</td>\n",
       "      <td>1</td>\n",
       "      <td>0</td>\n",
       "      <td>0</td>\n",
       "      <td>0</td>\n",
       "      <td>1</td>\n",
       "      <td>0</td>\n",
       "      <td>2</td>\n",
       "      <td>0</td>\n",
       "      <td>0</td>\n",
       "      <td>1</td>\n",
       "      <td>3</td>\n",
       "      <td>0</td>\n",
       "      <td>0</td>\n",
       "    </tr>\n",
       "    <tr>\n",
       "      <td>19</td>\n",
       "      <td>1894</td>\n",
       "      <td>1</td>\n",
       "      <td>0</td>\n",
       "      <td>0</td>\n",
       "      <td>0</td>\n",
       "      <td>0</td>\n",
       "      <td>0</td>\n",
       "      <td>0</td>\n",
       "      <td>0</td>\n",
       "      <td>1</td>\n",
       "      <td>0</td>\n",
       "      <td>1</td>\n",
       "      <td>1</td>\n",
       "      <td>0</td>\n",
       "      <td>0</td>\n",
       "    </tr>\n",
       "  </tbody>\n",
       "</table>\n",
       "</div>"
      ],
      "text/plain": [
       "    Year  GC  C1  C2  C3  C4  C5  C6  C7  C8  C9  C10  C11  C14  C15\n",
       "0   1875   0   0   0   0   0   0   0   1   1   0    0    0    1    0\n",
       "1   1876   2   0   0   0   1   0   0   0   0   0    0    0    1    1\n",
       "2   1877   2   0   0   0   0   0   1   1   0   0    1    0    2    0\n",
       "3   1878   1   2   2   1   1   0   0   0   0   0    1    0    1    0\n",
       "4   1879   0   0   0   1   1   2   2   0   1   0    0    2    1    0\n",
       "5   1880   0   3   2   1   1   1   0   0   0   2    1    4    3    0\n",
       "6   1881   1   0   0   2   1   0   0   1   0   1    0    0    0    0\n",
       "7   1882   1   2   0   0   0   0   1   0   1   1    2    1    4    1\n",
       "8   1883   0   0   1   2   0   1   2   1   0   1    0    3    0    0\n",
       "9   1884   3   0   1   0   0   0   0   1   0   0    2    0    1    1\n",
       "10  1885   0   0   0   0   0   0   1   0   0   2    0    1    0    1\n",
       "11  1886   2   1   0   0   1   1   1   0   0   1    0    1    3    0\n",
       "12  1887   1   1   2   1   0   0   3   2   1   1    0    1    2    0\n",
       "13  1888   0   1   1   0   0   1   1   0   0   0    0    1    1    0\n",
       "14  1889   0   0   1   1   0   1   1   0   0   1    2    2    0    2\n",
       "15  1890   1   2   0   2   0   1   1   2   0   2    1    1    2    2\n",
       "16  1891   0   0   0   1   1   1   0   1   1   0    3    3    1    0\n",
       "17  1892   1   3   2   0   1   1   3   0   1   1    0    1    1    0\n",
       "18  1893   0   1   0   0   0   1   0   2   0   0    1    3    0    0\n",
       "19  1894   1   0   0   0   0   0   0   0   1   0    1    1    0    0"
      ]
     },
     "execution_count": 7,
     "metadata": {},
     "output_type": "execute_result"
    }
   ],
   "source": [
    "dfPrussianHorses = pd.read_table(\"HorseKicks.txt\")\n",
    "dfPrussianHorsesData = dfPrussianHorses.iloc[:, 1:15]\n",
    "data = dfPrussianHorsesData.to_numpy().ravel()\n",
    "dfPrussianHorses"
   ]
  },
  {
   "cell_type": "code",
   "execution_count": 8,
   "metadata": {
    "slideshow": {
     "slide_type": "slide"
    }
   },
   "outputs": [
    {
     "data": {
      "text/plain": [
       "<matplotlib.legend.Legend at 0x120a760d0>"
      ]
     },
     "execution_count": 8,
     "metadata": {},
     "output_type": "execute_result"
    },
    {
     "data": {
      "text/plain": [
       "<Figure size 432x288 with 0 Axes>"
      ]
     },
     "metadata": {},
     "output_type": "display_data"
    },
    {
     "data": {
      "image/png": "[encoded data removed]",
      "text/plain": [
       "<Figure size 432x288 with 1 Axes>"
      ]
     },
     "metadata": {
      "needs_background": "light"
     },
     "output_type": "display_data"
    }
   ],
   "source": [
    "plt.figure()\n",
    "fig, ax = plt.subplots(1, 1)\n",
    "unResults = np.unique(dfPrussianHorsesData)\n",
    "\n",
    "bins = [x for x in range(8)]\n",
    "\n",
    "dataCounts, dataBins = np.histogram(data, bins=bins)\n",
    "dataCountsNorm = dataCounts/(np.sum(dataCounts)) # for pmf, sum of counts must equal 1\n",
    "binCentres = (dataBins[:-1] + dataBins[1:]) / 2\n",
    "\n",
    "poisBins = bins[0:7]\n",
    "ax.plot(binCentres, poisson.pmf(poisBins, 0.7), 'ro', ms=8, label='poisson pmf')\n",
    "plt.bar(binCentres, dataCountsNorm, align='center', label='Prussian Army records 1875-1894', color='b')\n",
    "plt.legend()"
   ]
  },
  {
   "cell_type": "markdown",
   "metadata": {
    "slideshow": {
     "slide_type": "slide"
    }
   },
   "source": [
    "# Uniform pdf\n"
   ]
  },
  {
   "cell_type": "code",
   "execution_count": 9,
   "metadata": {},
   "outputs": [
    {
     "name": "stdout",
     "output_type": "stream",
     "text": [
      "0.5\n",
      "0.28867513459481287\n"
     ]
    },
    {
     "data": {
      "text/plain": [
       "<Figure size 432x288 with 0 Axes>"
      ]
     },
     "metadata": {},
     "output_type": "display_data"
    },
    {
     "data": {
      "image/png": "[encoded data removed]",
      "text/plain": [
       "<Figure size 432x288 with 1 Axes>"
      ]
     },
     "metadata": {
      "needs_background": "light"
     },
     "output_type": "display_data"
    }
   ],
   "source": [
    "n = 100000\n",
    "result = np.random.uniform(0, 1, n) #uniform\n",
    "\n",
    "plt.figure()\n",
    "fig, ax = plt.subplots(1, 1)\n",
    "fr = uniform()\n",
    "\n",
    "x = np.linspace(-5.0,5,1000)\n",
    "#ax.plot(x, fr(x), 'ro', ms=8, label='uniform pdf')\n",
    "\n",
    "ax.plot(x, fr.pdf(x),'r-', lw=5, alpha=0.6, label='uniform pdf')\n",
    "\n",
    "ax.set_xlim(-5.0, 5.0)\n",
    "#plt.hist(result, bins ='auto', density = True, label='uniform random numbers', color='b')\n",
    "\n",
    "\n",
    "plt.vlines(-1.0, 0.0, 1.0, linewidth=3.0, linestyle=\"dashed\")\n",
    "plt.vlines(-2.0, 0.0, 1.0, linewidth=3.0, linestyle=\"dashed\")\n",
    "plt.vlines(-3.0, 0.0, 1.0, linewidth=3.0, linestyle=\"dashed\")\n",
    "plt.vlines(-4.0, 0.0, 1.0, linewidth=3.0, linestyle=\"dashed\")\n",
    "plt.vlines(0.0, 0.0, 1.0, linewidth=3.0, linestyle=\"dashed\", label=\"strip edges\")\n",
    "plt.vlines(1.0, 0.0, 1.0, linewidth=3.0, linestyle=\"dashed\")\n",
    "plt.vlines(2.0, 0.0, 1.0, linewidth=3.0, linestyle=\"dashed\")\n",
    "plt.vlines(3.0, 0.0, 1.0, linewidth=3.0, linestyle=\"dashed\")\n",
    "plt.vlines(4.0, 0.0, 1.0, linewidth=3.0, linestyle=\"dashed\")\n",
    "\n",
    "\n",
    "labelx = ax.set_xlabel(\"x\", fontsize = 18)\n",
    "labely = ax.set_ylabel(\"f(x)\", fontsize = 18)\n",
    "plt.legend()\n",
    "\n",
    "print(fr.mean())\n",
    "print(fr.std())"
   ]
  },
  {
   "cell_type": "markdown",
   "metadata": {
    "slideshow": {
     "slide_type": "slide"
    }
   },
   "source": [
    "# Gaussian (normal) pdf\n",
    "\n",
    "$$  f(x; \\mu, \\sigma^{2}) = \\frac{1}{\\sqrt{2\\pi\\sigma^{2}}} \\exp \\big(  \\frac{-(x-\\mu)^{2}}{2\\sigma^{2}} \\big)$$\n",
    "- $\\mu$ and $\\sigma$ are the mean and standard deviation respectively\n"
   ]
  },
  {
   "cell_type": "markdown",
   "metadata": {
    "slideshow": {
     "slide_type": "slide"
    }
   },
   "source": [
    "# Gaussian (normal) pdf\n",
    "- We see Gaussian distributions again, again and again...Why?\n",
    "- **Central Limit Theorem**:\n",
    " -  sum of $n$ independent continuous random variables $x_i$ with means $\\mu_i$ and variances $\\sigma_i$ **becomes a Gaussian random variable** with mean $\\mu = \\sum^{n}_{i=1} \\mu_{i}$ and variance $\\sigma^{2} = \\sum^{n}_{i=1} \\sigma_{i}^{2}$ in the limit that $n$ approaches infinity \n",
    "- **Doesn't matter how the variables are distributed!!**"
   ]
  },
  {
   "cell_type": "code",
   "execution_count": 42,
   "metadata": {
    "slideshow": {
     "slide_type": "slide"
    }
   },
   "outputs": [
    {
     "data": {
      "text/html": [
       "<div>\n",
       "<style scoped>\n",
       "    .dataframe tbody tr th:only-of-type {\n",
       "        vertical-align: middle;\n",
       "    }\n",
       "\n",
       "    .dataframe tbody tr th {\n",
       "        vertical-align: top;\n",
       "    }\n",
       "\n",
       "    .dataframe thead th {\n",
       "        text-align: right;\n",
       "    }\n",
       "</style>\n",
       "<table border=\"1\" class=\"dataframe\">\n",
       "  <thead>\n",
       "    <tr style=\"text-align: right;\">\n",
       "      <th></th>\n",
       "      <th>0</th>\n",
       "      <th>1</th>\n",
       "      <th>2</th>\n",
       "      <th>3</th>\n",
       "      <th>4</th>\n",
       "      <th>5</th>\n",
       "      <th>6</th>\n",
       "      <th>7</th>\n",
       "      <th>8</th>\n",
       "      <th>9</th>\n",
       "      <th>...</th>\n",
       "      <th>26</th>\n",
       "      <th>27</th>\n",
       "      <th>28</th>\n",
       "      <th>29</th>\n",
       "      <th>30</th>\n",
       "      <th>31</th>\n",
       "      <th>32</th>\n",
       "      <th>33</th>\n",
       "      <th>34</th>\n",
       "      <th>sum</th>\n",
       "    </tr>\n",
       "  </thead>\n",
       "  <tbody>\n",
       "    <tr>\n",
       "      <td>0</td>\n",
       "      <td>3.794515</td>\n",
       "      <td>0.792060</td>\n",
       "      <td>2.633163</td>\n",
       "      <td>1.225665</td>\n",
       "      <td>2.670742</td>\n",
       "      <td>1.217623</td>\n",
       "      <td>2.467219</td>\n",
       "      <td>1.127275</td>\n",
       "      <td>3.622701</td>\n",
       "      <td>1.723315</td>\n",
       "      <td>...</td>\n",
       "      <td>4.007043</td>\n",
       "      <td>0.611085</td>\n",
       "      <td>2.879183</td>\n",
       "      <td>2.798430</td>\n",
       "      <td>1.364085</td>\n",
       "      <td>1.550850</td>\n",
       "      <td>2.074945</td>\n",
       "      <td>1.769737</td>\n",
       "      <td>0.692280</td>\n",
       "      <td>74.677313</td>\n",
       "    </tr>\n",
       "    <tr>\n",
       "      <td>1</td>\n",
       "      <td>1.439000</td>\n",
       "      <td>2.271105</td>\n",
       "      <td>2.128236</td>\n",
       "      <td>2.276037</td>\n",
       "      <td>2.138680</td>\n",
       "      <td>2.008172</td>\n",
       "      <td>2.286797</td>\n",
       "      <td>1.832697</td>\n",
       "      <td>2.110945</td>\n",
       "      <td>3.024268</td>\n",
       "      <td>...</td>\n",
       "      <td>2.552703</td>\n",
       "      <td>2.237493</td>\n",
       "      <td>1.615206</td>\n",
       "      <td>4.103930</td>\n",
       "      <td>2.218970</td>\n",
       "      <td>1.599618</td>\n",
       "      <td>2.344579</td>\n",
       "      <td>0.856632</td>\n",
       "      <td>3.037801</td>\n",
       "      <td>82.305308</td>\n",
       "    </tr>\n",
       "    <tr>\n",
       "      <td>2</td>\n",
       "      <td>1.988460</td>\n",
       "      <td>4.418340</td>\n",
       "      <td>3.663485</td>\n",
       "      <td>2.750089</td>\n",
       "      <td>1.058884</td>\n",
       "      <td>2.554474</td>\n",
       "      <td>2.353366</td>\n",
       "      <td>1.984115</td>\n",
       "      <td>2.328726</td>\n",
       "      <td>1.386963</td>\n",
       "      <td>...</td>\n",
       "      <td>2.559936</td>\n",
       "      <td>1.735275</td>\n",
       "      <td>2.454285</td>\n",
       "      <td>1.710316</td>\n",
       "      <td>2.206606</td>\n",
       "      <td>3.067565</td>\n",
       "      <td>2.181656</td>\n",
       "      <td>1.478968</td>\n",
       "      <td>1.786202</td>\n",
       "      <td>78.545067</td>\n",
       "    </tr>\n",
       "    <tr>\n",
       "      <td>3</td>\n",
       "      <td>1.231766</td>\n",
       "      <td>1.026858</td>\n",
       "      <td>2.110948</td>\n",
       "      <td>3.149236</td>\n",
       "      <td>1.719734</td>\n",
       "      <td>2.063889</td>\n",
       "      <td>1.265932</td>\n",
       "      <td>1.521289</td>\n",
       "      <td>4.471666</td>\n",
       "      <td>0.538644</td>\n",
       "      <td>...</td>\n",
       "      <td>1.398982</td>\n",
       "      <td>1.641586</td>\n",
       "      <td>2.614936</td>\n",
       "      <td>3.252335</td>\n",
       "      <td>2.120668</td>\n",
       "      <td>2.235968</td>\n",
       "      <td>1.308458</td>\n",
       "      <td>2.821781</td>\n",
       "      <td>2.398652</td>\n",
       "      <td>70.329908</td>\n",
       "    </tr>\n",
       "    <tr>\n",
       "      <td>4</td>\n",
       "      <td>1.392428</td>\n",
       "      <td>2.353204</td>\n",
       "      <td>1.318137</td>\n",
       "      <td>4.868855</td>\n",
       "      <td>1.921467</td>\n",
       "      <td>1.122056</td>\n",
       "      <td>0.976401</td>\n",
       "      <td>1.154905</td>\n",
       "      <td>1.218552</td>\n",
       "      <td>2.198844</td>\n",
       "      <td>...</td>\n",
       "      <td>1.270777</td>\n",
       "      <td>1.805868</td>\n",
       "      <td>1.481087</td>\n",
       "      <td>1.656624</td>\n",
       "      <td>2.439563</td>\n",
       "      <td>1.322910</td>\n",
       "      <td>1.319464</td>\n",
       "      <td>3.174549</td>\n",
       "      <td>3.769228</td>\n",
       "      <td>73.126448</td>\n",
       "    </tr>\n",
       "    <tr>\n",
       "      <td>...</td>\n",
       "      <td>...</td>\n",
       "      <td>...</td>\n",
       "      <td>...</td>\n",
       "      <td>...</td>\n",
       "      <td>...</td>\n",
       "      <td>...</td>\n",
       "      <td>...</td>\n",
       "      <td>...</td>\n",
       "      <td>...</td>\n",
       "      <td>...</td>\n",
       "      <td>...</td>\n",
       "      <td>...</td>\n",
       "      <td>...</td>\n",
       "      <td>...</td>\n",
       "      <td>...</td>\n",
       "      <td>...</td>\n",
       "      <td>...</td>\n",
       "      <td>...</td>\n",
       "      <td>...</td>\n",
       "      <td>...</td>\n",
       "      <td>...</td>\n",
       "    </tr>\n",
       "    <tr>\n",
       "      <td>9995</td>\n",
       "      <td>1.387990</td>\n",
       "      <td>1.995919</td>\n",
       "      <td>1.305984</td>\n",
       "      <td>2.110987</td>\n",
       "      <td>1.422073</td>\n",
       "      <td>2.338059</td>\n",
       "      <td>1.666173</td>\n",
       "      <td>1.875874</td>\n",
       "      <td>1.493364</td>\n",
       "      <td>2.783974</td>\n",
       "      <td>...</td>\n",
       "      <td>1.651359</td>\n",
       "      <td>3.707131</td>\n",
       "      <td>3.383114</td>\n",
       "      <td>2.743183</td>\n",
       "      <td>1.991729</td>\n",
       "      <td>1.588792</td>\n",
       "      <td>2.440448</td>\n",
       "      <td>1.663857</td>\n",
       "      <td>3.401251</td>\n",
       "      <td>69.800763</td>\n",
       "    </tr>\n",
       "    <tr>\n",
       "      <td>9996</td>\n",
       "      <td>2.981641</td>\n",
       "      <td>1.198039</td>\n",
       "      <td>1.414233</td>\n",
       "      <td>1.366571</td>\n",
       "      <td>3.449577</td>\n",
       "      <td>3.831885</td>\n",
       "      <td>1.390504</td>\n",
       "      <td>2.001912</td>\n",
       "      <td>3.138710</td>\n",
       "      <td>0.881935</td>\n",
       "      <td>...</td>\n",
       "      <td>2.440476</td>\n",
       "      <td>0.614547</td>\n",
       "      <td>2.870875</td>\n",
       "      <td>1.817805</td>\n",
       "      <td>0.868522</td>\n",
       "      <td>1.548416</td>\n",
       "      <td>1.950310</td>\n",
       "      <td>1.558804</td>\n",
       "      <td>4.698881</td>\n",
       "      <td>72.579863</td>\n",
       "    </tr>\n",
       "    <tr>\n",
       "      <td>9997</td>\n",
       "      <td>3.057164</td>\n",
       "      <td>2.907368</td>\n",
       "      <td>1.554359</td>\n",
       "      <td>1.853961</td>\n",
       "      <td>1.145943</td>\n",
       "      <td>1.713797</td>\n",
       "      <td>0.992477</td>\n",
       "      <td>2.437134</td>\n",
       "      <td>1.850643</td>\n",
       "      <td>2.038943</td>\n",
       "      <td>...</td>\n",
       "      <td>4.570049</td>\n",
       "      <td>2.453568</td>\n",
       "      <td>2.839558</td>\n",
       "      <td>2.498637</td>\n",
       "      <td>4.033430</td>\n",
       "      <td>3.448915</td>\n",
       "      <td>1.782541</td>\n",
       "      <td>1.340133</td>\n",
       "      <td>1.029908</td>\n",
       "      <td>76.028867</td>\n",
       "    </tr>\n",
       "    <tr>\n",
       "      <td>9998</td>\n",
       "      <td>4.376484</td>\n",
       "      <td>0.876628</td>\n",
       "      <td>3.118795</td>\n",
       "      <td>2.104588</td>\n",
       "      <td>1.654827</td>\n",
       "      <td>0.953736</td>\n",
       "      <td>2.337377</td>\n",
       "      <td>2.899059</td>\n",
       "      <td>4.245777</td>\n",
       "      <td>1.472629</td>\n",
       "      <td>...</td>\n",
       "      <td>1.535716</td>\n",
       "      <td>1.905598</td>\n",
       "      <td>2.497116</td>\n",
       "      <td>2.696442</td>\n",
       "      <td>2.824432</td>\n",
       "      <td>1.599799</td>\n",
       "      <td>1.459052</td>\n",
       "      <td>1.355704</td>\n",
       "      <td>4.321768</td>\n",
       "      <td>78.137451</td>\n",
       "    </tr>\n",
       "    <tr>\n",
       "      <td>9999</td>\n",
       "      <td>1.725496</td>\n",
       "      <td>2.486165</td>\n",
       "      <td>2.530937</td>\n",
       "      <td>5.032468</td>\n",
       "      <td>3.650136</td>\n",
       "      <td>0.891327</td>\n",
       "      <td>0.947997</td>\n",
       "      <td>2.622782</td>\n",
       "      <td>3.295971</td>\n",
       "      <td>2.049866</td>\n",
       "      <td>...</td>\n",
       "      <td>1.052580</td>\n",
       "      <td>1.459553</td>\n",
       "      <td>1.411809</td>\n",
       "      <td>2.148834</td>\n",
       "      <td>1.945632</td>\n",
       "      <td>2.023011</td>\n",
       "      <td>5.408159</td>\n",
       "      <td>1.689978</td>\n",
       "      <td>2.367959</td>\n",
       "      <td>75.613610</td>\n",
       "    </tr>\n",
       "  </tbody>\n",
       "</table>\n",
       "<p>10000 rows × 36 columns</p>\n",
       "</div>"
      ],
      "text/plain": [
       "             0         1         2         3         4         5         6  \\\n",
       "0     3.794515  0.792060  2.633163  1.225665  2.670742  1.217623  2.467219   \n",
       "1     1.439000  2.271105  2.128236  2.276037  2.138680  2.008172  2.286797   \n",
       "2     1.988460  4.418340  3.663485  2.750089  1.058884  2.554474  2.353366   \n",
       "3     1.231766  1.026858  2.110948  3.149236  1.719734  2.063889  1.265932   \n",
       "4     1.392428  2.353204  1.318137  4.868855  1.921467  1.122056  0.976401   \n",
       "...        ...       ...       ...       ...       ...       ...       ...   \n",
       "9995  1.387990  1.995919  1.305984  2.110987  1.422073  2.338059  1.666173   \n",
       "9996  2.981641  1.198039  1.414233  1.366571  3.449577  3.831885  1.390504   \n",
       "9997  3.057164  2.907368  1.554359  1.853961  1.145943  1.713797  0.992477   \n",
       "9998  4.376484  0.876628  3.118795  2.104588  1.654827  0.953736  2.337377   \n",
       "9999  1.725496  2.486165  2.530937  5.032468  3.650136  0.891327  0.947997   \n",
       "\n",
       "             7         8         9  ...        26        27        28  \\\n",
       "0     1.127275  3.622701  1.723315  ...  4.007043  0.611085  2.879183   \n",
       "1     1.832697  2.110945  3.024268  ...  2.552703  2.237493  1.615206   \n",
       "2     1.984115  2.328726  1.386963  ...  2.559936  1.735275  2.454285   \n",
       "3     1.521289  4.471666  0.538644  ...  1.398982  1.641586  2.614936   \n",
       "4     1.154905  1.218552  2.198844  ...  1.270777  1.805868  1.481087   \n",
       "...        ...       ...       ...  ...       ...       ...       ...   \n",
       "9995  1.875874  1.493364  2.783974  ...  1.651359  3.707131  3.383114   \n",
       "9996  2.001912  3.138710  0.881935  ...  2.440476  0.614547  2.870875   \n",
       "9997  2.437134  1.850643  2.038943  ...  4.570049  2.453568  2.839558   \n",
       "9998  2.899059  4.245777  1.472629  ...  1.535716  1.905598  2.497116   \n",
       "9999  2.622782  3.295971  2.049866  ...  1.052580  1.459553  1.411809   \n",
       "\n",
       "            29        30        31        32        33        34        sum  \n",
       "0     2.798430  1.364085  1.550850  2.074945  1.769737  0.692280  74.677313  \n",
       "1     4.103930  2.218970  1.599618  2.344579  0.856632  3.037801  82.305308  \n",
       "2     1.710316  2.206606  3.067565  2.181656  1.478968  1.786202  78.545067  \n",
       "3     3.252335  2.120668  2.235968  1.308458  2.821781  2.398652  70.329908  \n",
       "4     1.656624  2.439563  1.322910  1.319464  3.174549  3.769228  73.126448  \n",
       "...        ...       ...       ...       ...       ...       ...        ...  \n",
       "9995  2.743183  1.991729  1.588792  2.440448  1.663857  3.401251  69.800763  \n",
       "9996  1.817805  0.868522  1.548416  1.950310  1.558804  4.698881  72.579863  \n",
       "9997  2.498637  4.033430  3.448915  1.782541  1.340133  1.029908  76.028867  \n",
       "9998  2.696442  2.824432  1.599799  1.459052  1.355704  4.321768  78.137451  \n",
       "9999  2.148834  1.945632  2.023011  5.408159  1.689978  2.367959  75.613610  \n",
       "\n",
       "[10000 rows x 36 columns]"
      ]
     },
     "execution_count": 42,
     "metadata": {},
     "output_type": "execute_result"
    }
   ],
   "source": [
    "#Demo of Central Limit Theorem\n",
    "# n random numbers, each distributed according to some arbitrary, continuous pdf, N = sum(n)\n",
    "n  = 35\n",
    "n_exps = 10000\n",
    "\n",
    "nums = np.array([])\n",
    "sums = np.array([])\n",
    "\n",
    "dfCLT = pd.DataFrame()\n",
    "\n",
    "for i in range(0,n_exps):\n",
    "    #result = np.random.uniform(0, 1, n) #uniform\n",
    "    #result = np.random.standard_exponential(n) #exponential\n",
    "    #result = np.random.power(1.5, n) #power law\n",
    "    result  = np.random.uniform(0, 1, n) + np.random.standard_exponential(n) + np.random.power(1.5, n)\n",
    "\n",
    "    nums = np.append(nums, result)\n",
    "    sum = np.sum(result)\n",
    "    sums = np.append(sums, sum)\n",
    "\n",
    "numsR = nums.reshape(n_exps,n)\n",
    "\n",
    "dfCLT = pd.DataFrame(numsR,dtype=None, copy=False)\n",
    "dfCLT[\"sum\"] = sums\n",
    "dfCLT"
   ]
  },
  {
   "cell_type": "code",
   "execution_count": 43,
   "metadata": {
    "slideshow": {
     "slide_type": "slide"
    }
   },
   "outputs": [
    {
     "data": {
      "text/plain": [
       "<Figure size 432x288 with 0 Axes>"
      ]
     },
     "metadata": {},
     "output_type": "display_data"
    },
    {
     "data": {
      "image/png": "[encoded data removed]",
      "text/plain": [
       "<Figure size 432x288 with 1 Axes>"
      ]
     },
     "metadata": {
      "needs_background": "light"
     },
     "output_type": "display_data"
    }
   ],
   "source": [
    "plt.figure()\n",
    "fig, ax = plt.subplots(1, 1)\n",
    "\n",
    "text = \"$x_3$\"\n",
    "#distribution of the 3rd random number as an example\n",
    "h = plt.hist(dfCLT.iloc[:,13], bins='auto', density=True, label=text)\n",
    "labelx = ax.set_xlabel(\"$x_3$\", fontsize = 18)\n",
    "labely = ax.set_ylabel(\"$f(x_3)$\", fontsize = 18)\n",
    "plt.legend()\n",
    "plt.show()"
   ]
  },
  {
   "cell_type": "code",
   "execution_count": 44,
   "metadata": {
    "slideshow": {
     "slide_type": "slide"
    }
   },
   "outputs": [
    {
     "data": {
      "text/plain": [
       "<Figure size 432x288 with 0 Axes>"
      ]
     },
     "metadata": {},
     "output_type": "display_data"
    },
    {
     "data": {
      "image/png": "[encoded data removed]",
      "text/plain": [
       "<Figure size 432x288 with 1 Axes>"
      ]
     },
     "metadata": {
      "needs_background": "light"
     },
     "output_type": "display_data"
    }
   ],
   "source": [
    "plt.figure()\n",
    "fig, ax = plt.subplots(1, 1)\n",
    "\n",
    "text = \"$\\sum x_{i}$\"\n",
    "h = plt.hist(dfCLT[\"sum\"], bins='auto', density=True, label=text)\n",
    "mu = np.mean(dfCLT[\"sum\"])\n",
    "std = np.std(dfCLT[\"sum\"])\n",
    "x = np.linspace(mu-(3*std), mu+(3*std),100)\n",
    "\n",
    "ax.plot(x, norm.pdf(x,mu, std), 'r-', ms=8, label='Gaussian')\n",
    "labelx = ax.set_xlabel(\"$\\sum x_{i}$\", fontsize = 18)\n",
    "labely = ax.set_ylabel(\"f(x)\", fontsize = 18)\n",
    "plt.legend()\n",
    "plt.show()"
   ]
  },
  {
   "cell_type": "markdown",
   "metadata": {
    "slideshow": {
     "slide_type": "slide"
    }
   },
   "source": [
    "# Central Limit Theorem\n",
    "\n",
    " - Formal justification for treating measurement uncertainties as Gaussian-distributed random variables \n",
    " - Assumes total uncertainty is the sum of a large number of small contributions\n",
    " \n",
    "- **Many random variables summing together to produce our variable of interest is typical of particle physics!**"
   ]
  },
  {
   "cell_type": "markdown",
   "metadata": {
    "slideshow": {
     "slide_type": "slide"
    }
   },
   "source": [
    "# Crystall ball pdf\n",
    "\n",
    "- "
   ]
  },
  {
   "cell_type": "code",
   "execution_count": 12,
   "metadata": {},
   "outputs": [
    {
     "data": {
      "text/plain": [
       "[<matplotlib.lines.Line2D at 0x120c2ca10>]"
      ]
     },
     "execution_count": 12,
     "metadata": {},
     "output_type": "execute_result"
    },
    {
     "data": {
      "image/png": "[encoded data removed]",
      "text/plain": [
       "<Figure size 432x288 with 1 Axes>"
      ]
     },
     "metadata": {
      "needs_background": "light"
     },
     "output_type": "display_data"
    }
   ],
   "source": [
    "from scipy.stats import crystalball\n",
    "beta, m = 2, 3\n",
    "mean, var, skew, kurt = crystalball.stats(beta, m, moments='mvsk')\n",
    "\n",
    "fig, ax = plt.subplots(1, 1)\n",
    "\n",
    "x = np.linspace(crystalball.ppf(0.01, beta, m), crystalball.ppf(0.99, beta, m), 100)\n",
    "\n",
    "ax.plot(x, crystalball.pdf(x, beta, m), 'r-', lw=5, alpha=0.6, label='crystalball pdf')"
   ]
  },
  {
   "cell_type": "markdown",
   "metadata": {},
   "source": [
    "# Multinomial pmf\n",
    "\n",
    "- What if the experiment had $m$ possible outcomes instead of 2? e.g, rolling a die?\n",
    "\n",
    "- Consider the experiment of rolling a **unbiased** die $N$ times\n",
    "    - 6 possible results $x_i = \\left\\{ 1 \\dots 6 \\right\\}$ each with equal probilities $P_i = 1/6$ as $\\sum_i P_i =1$\n",
    "    \n",
    "- Repeat experiment $N_{exps}$ times\n",
    "    - $n$ would occur with relative frequencies ($P(n)$) given by the **multinomial pmf**."
   ]
  },
  {
   "cell_type": "code",
   "execution_count": 13,
   "metadata": {},
   "outputs": [
    {
     "data": {
      "image/png": "[encoded data removed]",
      "text/plain": [
       "<Figure size 432x288 with 1 Axes>"
      ]
     },
     "metadata": {
      "needs_background": "light"
     },
     "output_type": "display_data"
    }
   ],
   "source": [
    "r = randint.rvs(1, 7, size=N_exps)\n",
    "\n",
    "plt.figure()\n",
    "h = plt.hist(r, bins='auto',density=True, label='scores')\n",
    "plt.show()"
   ]
  },
  {
   "cell_type": "code",
   "execution_count": null,
   "metadata": {},
   "outputs": [],
   "source": []
  }
 ],
 "metadata": {
  "celltoolbar": "Slideshow",
  "kernelspec": {
   "display_name": "Python 3",
   "language": "python",
   "name": "python3"
  },
  "language_info": {
   "codemirror_mode": {
    "name": "ipython",
    "version": 3
   },
   "file_extension": ".py",
   "mimetype": "text/x-python",
   "name": "python",
   "nbconvert_exporter": "python",
   "pygments_lexer": "ipython3",
   "version": "3.7.4"
  }
 },
 "nbformat": 4,
 "nbformat_minor": 2
}
