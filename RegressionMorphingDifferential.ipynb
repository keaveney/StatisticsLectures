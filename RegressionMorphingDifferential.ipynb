{
 "cells": [
  {
   "cell_type": "code",
   "execution_count": 1,
   "metadata": {},
   "outputs": [
    {
     "name": "stdout",
     "output_type": "stream",
     "text": [
      "0.23.2\n"
     ]
    }
   ],
   "source": [
    "# check scikit-learn version\n",
    "import sklearn\n",
    "print(sklearn.__version__)\n",
    "import numpy as np\n",
    "from itertools import combinations"
   ]
  },
  {
   "cell_type": "code",
   "execution_count": 2,
   "metadata": {},
   "outputs": [],
   "source": [
    "def triangularNumber(n):\n",
    "    tN = int(n*(n+1)/2)\n",
    "    return tN\n",
    "\n",
    "def makeCoeff(ci):\n",
    "    X = np.array([])\n",
    "    for row in ci:\n",
    "        X = np.append(X, row**2)\n",
    "        combs = combinations(list(row), 2)\n",
    "        num_rows = np.shape(ci)[0] \n",
    "        for comb in combs:\n",
    "            X = np.append(X, comb[0]*comb[1]) \n",
    "    \n",
    "    X = X.reshape(num_rows, triangularNumber(len(ci[0])))\n",
    "    \n",
    "    return X"
   ]
  },
  {
   "cell_type": "code",
   "execution_count": 20,
   "metadata": {},
   "outputs": [
    {
     "name": "stdout",
     "output_type": "stream",
     "text": [
      "  \n",
      "point [  1.          21.32889124 -28.21390306 -23.96440828]\n",
      "theory pred = ['2.48', '4.95', '5.30']\n",
      "morph pred  = ['2.48', '4.95', '5.30']\n",
      "  \n",
      "point [  1.           0.10619019 -26.21808189  -7.13886288]\n",
      "theory pred = ['1.37', '2.54', '2.59']\n",
      "morph pred  = ['1.39', '2.54', '2.58']\n",
      "  \n",
      "point [  1.          -4.27987555  -3.08868949 -24.43475429]\n",
      "theory pred = ['0.80', '1.35', '1.22']\n",
      "morph pred  = ['0.82', '1.34', '1.23']\n",
      "  \n",
      "point [ 1.         23.39220118 19.4056777  -4.29502911]\n",
      "theory pred = ['0.62', '1.13', '1.02']\n",
      "morph pred  = ['0.65', '1.10', '1.08']\n"
     ]
    }
   ],
   "source": [
    "# linear regression for multioutput\n",
    "from sklearn.datasets import make_regression\n",
    "from sklearn.linear_model import LinearRegression\n",
    "\n",
    "# points in ci space for train predictions\n",
    "ci = np.array( [[ 1.0, 21.32889124, -28.21390306, -23.96440828],\n",
    " [ 1.0, 18.82234625, -23.44113627,  -9.53058614],\n",
    " [ 1.0, 4.58765323, -23.70222736, -20.72995713],\n",
    " [ 1.0, 22.54725686, -14.75223965,  22.43769447],\n",
    " [ 1.0, -27.16032675,  12.089424,    16.15312401],\n",
    " [ 1.0, 11.43344543,  24.40880846,   2.76290462],\n",
    " [ 1.0, 2.57642679,  12.69615772,  16.99709097],\n",
    " [ 1.0, 21.53343775, -26.6039096,    5.72815736],\n",
    " [ 1.0, -10.88245774,  24.59954417, -20.559031  ],\n",
    " [ 1.0, -14.62858953, -14.29333825, -27.56898216]] )\n",
    "\n",
    "#convert to vector of \"couplings\" to make the morphing a linear system\n",
    "X = makeCoeff(ci)\n",
    "\n",
    "#the results from MadGraph for a diff. cross section for these 'train' points\n",
    "y =  np.array([[2.4755114 , 4.9513283,  5.3005775 ],\n",
    " [1.4394606,  2.9418528,  3.2030589 ],\n",
    " [1.5679771,  2.9270606,  2.9842703 ],\n",
    " [1.7246983,  3.0396225,  2.9347125 ],\n",
    " [0.95249662, 1.9691739,  2.1701467 ],\n",
    " [0.94074718, 1.7564162,  1.7203896 ],\n",
    " [0.65954954, 1.1289184,  1.0380369 ],\n",
    " [1.9620595,  3.870802,   4.0906931 ],\n",
    " [1.9797426, 3.7256276,  3.7101148 ],\n",
    " [1.2391726,  2.1225667,  1.9149731 ]])\n",
    "\n",
    "# define model\n",
    "model = LinearRegression()\n",
    "\n",
    "# fit model\n",
    "model.fit(X, y)\n",
    "\n",
    "#print(model.coef_)\n",
    "\n",
    "# points in ci space for test predictions\n",
    "tests = np.array([[1.0, 21.32889124, -28.21390306, -23.96440828],\n",
    "                  [1.0,  0.10619019, -26.21808189,  -7.13886288],\n",
    "                  [1.0, -4.27987555,  -3.08868949, -24.43475429],\n",
    "                  [1.0, 23.39220118,  19.4056777,   -4.29502911]\n",
    "                 ])\n",
    "\n",
    "#convert to vector of \"couplings\" to make the morphing a linear system\n",
    "testCis = makeCoeff(tests)\n",
    "\n",
    "#the results from MadGraph for the tWZ incl. cross section for these 'test' points\n",
    "preds = ([[2.4755114 , 4.9513283,  5.3005775],         \n",
    "         [1.3658152,  2.5395153,  2.588515  ],\n",
    "         [0.802871,   1.3498305,  1.2177373 ],\n",
    "         [0.61924835, 1.127616,   1.0164826 ]\n",
    "         ])\n",
    "\n",
    "# compare model predictions to MadGraph results at 'test' points\n",
    "num_rows = np.shape(testCis)[0] \n",
    "\n",
    "for tCi in range(0, num_rows):  \n",
    "    yhat = model.predict([testCis[tCi]])\n",
    "    morphPred = [ '%.2f' % elem for elem in yhat[0] ]\n",
    "    mgPred = [ '%.2f' % elem for elem in preds[tCi]] \n",
    "    print(\"  \")\n",
    "    print(\"point \"  +  str(tests[tCi])) \n",
    "    print(\"theory pred = \" + str( mgPred ))\n",
    "    print(\"morph pred  = \" + str( morphPred )   )\n",
    "          "
   ]
  },
  {
   "cell_type": "code",
   "execution_count": null,
   "metadata": {},
   "outputs": [],
   "source": [
    "\n"
   ]
  }
 ],
 "metadata": {
  "kernelspec": {
   "display_name": "Python 3",
   "language": "python",
   "name": "python3"
  },
  "language_info": {
   "codemirror_mode": {
    "name": "ipython",
    "version": 3
   },
   "file_extension": ".py",
   "mimetype": "text/x-python",
   "name": "python",
   "nbconvert_exporter": "python",
   "pygments_lexer": "ipython3",
   "version": "3.8.5"
  }
 },
 "nbformat": 4,
 "nbformat_minor": 2
}
