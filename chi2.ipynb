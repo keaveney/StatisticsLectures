{
 "cells": [
  {
   "cell_type": "markdown",
   "metadata": {
    "slideshow": {
     "slide_type": "slide"
    }
   },
   "source": [
    "# Basic of probability and statistics\n",
    "In this notebook we will take our first steps in exploring the basics of probability and statistics.\n",
    "Specifically we will:\n",
    "\n",
    "* Use scipy and numpy to generate Gaussian-distributed random numbers.\n",
    "* Demonstrate that MC-based histograms based on these random numbers can approximate the underlying pdfs.\n",
    "* Show that for vectors of $M$ independent Gaussian-distributed random numbers, the $\\chi^{2}$ **test statistic** obeys a $\\chi^{2}$ **distribution**.\n",
    "* Use this distribution to quantify how well an experimental result supports a hypothesis"
   ]
  },
  {
   "cell_type": "markdown",
   "metadata": {
    "slideshow": {
     "slide_type": "slide"
    }
   },
   "source": [
    "**First we import the necessary python packages**"
   ]
  },
  {
   "cell_type": "code",
   "execution_count": 2,
   "metadata": {
    "slideshow": {
     "slide_type": "fragment"
    }
   },
   "outputs": [],
   "source": [
    "import matplotlib.pyplot as plt\n",
    "import pandas as pd\n",
    "from scipy import stats\n",
    "import numpy as np"
   ]
  },
  {
   "cell_type": "markdown",
   "metadata": {
    "slideshow": {
     "slide_type": "slide"
    }
   },
   "source": [
    "**Generating random numbers that obey a Gaussian distribution**\n",
    "\n",
    "* initalisation:\n",
    "    * the mean (mu) and standard deviation (sigma) of the underlying Gaussian distribution \n",
    "    * the number of random numbers we want to generate\n",
    "    * the number of bins in our histogram\n",
    "    \n",
    "* generation:\n",
    "   * np.random module is callend and events are filled into a pandas dataframe\n",
    "   * events are then binned in a np.histogram\n",
    "   * density=True sets the histogram integral = 1, allowing direct comparison to the underlying pdf"
   ]
  },
  {
   "cell_type": "markdown",
   "metadata": {
    "slideshow": {
     "slide_type": "slide"
    }
   },
   "source": [
    "* we plot the histogram with the pdf overlaid\n",
    "* **change nEvents and nBins and re-run this cell to see how well the MC histogram can approximate the pdf**"
   ]
  },
  {
   "cell_type": "code",
   "execution_count": 3,
   "metadata": {
    "slideshow": {
     "slide_type": "fragment"
    }
   },
   "outputs": [
    {
     "data": {
      "image/png": "[encoded data removed]",
      "text/plain": [
       "<Figure size 432x288 with 1 Axes>"
      ]
     },
     "metadata": {
      "needs_background": "light"
     },
     "output_type": "display_data"
    }
   ],
   "source": [
    "mu = 80.0\n",
    "sigma = 5.0\n",
    "nEvents = 5000\n",
    "nBins = 50\n",
    "\n",
    "df = pd.DataFrame(np.random.normal(loc=mu, scale=sigma, size=nEvents), columns=['events'])\n",
    "dataCounts, dataBins = np.histogram(df, bins=nBins, density=True)\n",
    "binCentres = (dataBins[:-1] + dataBins[1:]) / 2\n",
    "width = np.diff(dataBins)\n",
    "\n",
    "plt.figure()\n",
    "plt.bar(binCentres, dataCounts, align='center', width=width, label='MC Histogram', color='b')\n",
    "\n",
    "ax = plt.gca()\n",
    "labely = ax.set_xlabel(\"$x$\", fontsize = 18)\n",
    "labely = ax.set_ylabel(\"f($x$)\", fontsize = 18)\n",
    "\n",
    "x = np.linspace(60.0, 100.0, 100)\n",
    "ax.plot(x, stats.norm.pdf(x, mu, sigma), 'r-', lw=5, alpha=0.6, label='f(x)')\n",
    "\n",
    "legend = ax.legend(loc='upper left', fontsize='large')\n",
    "plt.show()\n",
    "plt.close()"
   ]
  },
  {
   "cell_type": "markdown",
   "metadata": {
    "slideshow": {
     "slide_type": "slide"
    }
   },
   "source": [
    "# Using the $\\chi^{2}$ test statistic to perform a hypothesis test\n",
    "\n",
    "* Imagine we perform a single experiment that takes a reading of x nEvents times\n",
    "    * e.g., x could be $m_{jj}$\n",
    "    \n",
    "* We would like quantify how well the data fit a hypothesis\n",
    "    * **Hypothesis**: data are Gaussian-distributed with mean $\\mu=80$ and standard deviation $\\sigma=5.0$"
   ]
  },
  {
   "cell_type": "markdown",
   "metadata": {
    "slideshow": {
     "slide_type": "slide"
    }
   },
   "source": [
    "* The $\\chi^{2}$ *test statistic* quantifies how well the data supports a hypothesis\n",
    "    \n",
    "* The $\\chi^{2}$ test statistic for a histogram of gaussian-distributed observations $x_i$ and corresponding model predictions $p_{i}$ is defined:\n",
    "    *  $\\chi^{2} = \\sum\\limits_{i=1}^{i = nBins} \\frac{(x_{i} - p_{i})^{2}}{p_{i}}$\n",
    "\n",
    "*  $\\chi^{2}$ is calculated by the function below"
   ]
  },
  {
   "cell_type": "code",
   "execution_count": 59,
   "metadata": {
    "slideshow": {
     "slide_type": "fragment"
    }
   },
   "outputs": [],
   "source": [
    "def calcChiSq(obs, preds):\n",
    "    chiSq = 0.0\n",
    "    for bin in range(0, len(obs)):\n",
    "        diff = preds[bin] - obs[bin]\n",
    "        var = np.abs(preds[bin])\n",
    "        chiSq += (diff**2)/(var)\n",
    "    return chiSq"
   ]
  },
  {
   "cell_type": "markdown",
   "metadata": {
    "slideshow": {
     "slide_type": "slide"
    }
   },
   "source": [
    "* The $\\chi^{2}$ value is large if the data doesn't fit the hypothesis well and vice versa\n",
    "    * But how large is 'large'? \n",
    "    * Can we ever conclude that the data does/does not satisfy the hypothesis?\n",
    "      * No, but we can make a quatitative statement on **how likely our data is if the hyothesis is true**\n",
    "    \n",
    "* How is the $\\chi^{2}$ test statistic distributed if the hypothesis is true? "
   ]
  },
  {
   "cell_type": "markdown",
   "metadata": {
    "slideshow": {
     "slide_type": "slide"
    }
   },
   "source": [
    "* *Counter-factual* reasoning:\n",
    "    * imagine a infinte set of imaginary experiments (*identical* to ours) that could have been perform \n",
    "    * simulate a subset 'toy' experiments by generating random results from our model\n",
    "    * for each toy, calculate the $\\chi^{2}$ value\n",
    "\n",
    "* To simulate a toy experiment, we need a function that:\n",
    "    * takes a list of numbers $p_i$ as input\n",
    "    * returns a list of random numbers $r_i$ distibuted with means $p_i$ and standard deviations $\\sqrt{p_i}$"
   ]
  },
  {
   "cell_type": "code",
   "execution_count": 72,
   "metadata": {
    "slideshow": {
     "slide_type": "fragment"
    }
   },
   "outputs": [],
   "source": [
    "def genRandHist(pdfPreds):\n",
    "    randHist = np.empty(nBins)\n",
    "    for bin in range(0, len(pdfPreds)):\n",
    "        mu = pdfPreds[bin]\n",
    "        sigma = np.sqrt(mu)\n",
    "        randBin = np.random.normal(loc=mu, scale=sigma)\n",
    "        randHist[bin] = randBin\n",
    "    return randHist"
   ]
  },
  {
   "cell_type": "markdown",
   "metadata": {
    "slideshow": {
     "slide_type": "slide"
    }
   },
   "source": [
    "* now we run our toy experiments and calculate the $\\chi^{2}$ value for each one\n",
    "* evaluate the pdf at the bin centres for the $\\chi^{2}$ calculation"
   ]
  },
  {
   "cell_type": "code",
   "execution_count": 73,
   "metadata": {
    "slideshow": {
     "slide_type": "fragment"
    }
   },
   "outputs": [],
   "source": [
    "nToys = 10000\n",
    "chiSqAr = np.empty(nToys)\n",
    "\n",
    "pdfPreds = stats.norm.pdf(binCentres, mu, sigma)\n",
    "\n",
    "for toy in range(0, nToys):\n",
    "    toyHist = genRandHist(pdfPreds)\n",
    "    chiSq = calcChiSq(toyHist, pdfPreds)\n",
    "    chiSqAr[toy] = chiSq"
   ]
  },
  {
   "cell_type": "markdown",
   "metadata": {
    "slideshow": {
     "slide_type": "slide"
    }
   },
   "source": [
    "* we plot the distribution of $\\chi^{2}$ values\n",
    "* theory says this distribution should follow a $\\chi^{2}$ function with ndof = nBins"
   ]
  },
  {
   "cell_type": "code",
   "execution_count": 74,
   "metadata": {},
   "outputs": [
    {
     "data": {
      "text/plain": [
       "<Figure size 432x288 with 0 Axes>"
      ]
     },
     "metadata": {},
     "output_type": "display_data"
    },
    {
     "data": {
      "image/png": "[encoded data removed]",
      "text/plain": [
       "<Figure size 432x288 with 1 Axes>"
      ]
     },
     "metadata": {
      "needs_background": "light"
     },
     "output_type": "display_data"
    }
   ],
   "source": [
    "plt.figure()\n",
    "fig, ax1 = plt.subplots()\n",
    "h = plt.hist(chiSqAr, bins='auto', density=True, label='toys')\n",
    "df = nBins\n",
    "x = np.linspace(stats.chi2.ppf(0.00001, df), stats.chi2.ppf(0.99999, df), 100)\n",
    "label = '$\\chi^{2}$ (ndof = ' + str(nBins) + ') pdf'\n",
    "ax1.plot(x, stats.chi2.pdf(x, df), 'r-', lw=5, alpha=0.6, label=label)\n",
    "labely = ax1.set_xlabel(\"$\\chi^{2}$\", fontsize = 18)\n",
    "labely = ax1.set_ylabel(\"$f(\\chi^{2})$\", fontsize = 18)\n",
    "legend = ax1.legend(loc='upper right', fontsize='large')\n",
    "plt.show()"
   ]
  },
  {
   "cell_type": "markdown",
   "metadata": {
    "slideshow": {
     "slide_type": "slide"
    }
   },
   "source": [
    "* now we can make a **quantitative** statement about how well our **real** experiment fits our hypothesis\n",
    "    * calculate $\\chi_{real}^{2}$ for our **real** experiment\n",
    "    \n",
    "    * p-value = $\\int_{\\chi_{real}^{2}}^{+\\infty} f(\\chi^{2})d\\chi^{2} = 1 - F(\\chi^{2})$\n",
    "    \n",
    "    * p-value = \"probability that an experiment would give a result more extreme than this **if the hypothesis is true**\""
   ]
  },
  {
   "cell_type": "code",
   "execution_count": 100,
   "metadata": {
    "slideshow": {
     "slide_type": "fragment"
    }
   },
   "outputs": [
    {
     "data": {
      "image/png": "[encoded data removed]",
      "text/plain": [
       "<Figure size 432x288 with 1 Axes>"
      ]
     },
     "metadata": {
      "needs_background": "light"
     },
     "output_type": "display_data"
    }
   ],
   "source": [
    "fig, ax = plt.subplots()\n",
    "\n",
    "ax.plot(x, stats.chi2.pdf(x, df), 'r-', lw=5, alpha=0.6, label=label)\n",
    "ax.set_xlabel(\"$\\chi^{2}$\", fontsize = 18)\n",
    "ax.set_ylabel(\"$f(\\chi^{2})$\", fontsize = 18)\n",
    "legend = ax.legend(loc='upper right', fontsize='large')\n",
    "\n",
    "realChi2 = nBins*1.1\n",
    "px=np.arange(realChi2,1000,0.001)\n",
    "ax.fill_between(px,stats.chi2.pdf(px, df),alpha=0.5, color='g')\n",
    "\n",
    "left, right = plt.xlim()\n",
    "bottom, top = plt.ylim()\n",
    "ax.text(right*0.6, top*0.5,\"p-value = green area\", color='g', fontsize=12)\n",
    "plt.show()\n"
   ]
  },
  {
   "cell_type": "markdown",
   "metadata": {
    "slideshow": {
     "slide_type": "slide"
    }
   },
   "source": [
    "* we can now relate the $\\chi_{real}^{2}$ value from our experiment to a p-value\n",
    "* plot relationship between $\\chi^{2}$ and p-value for **this example**"
   ]
  },
  {
   "cell_type": "code",
   "execution_count": 102,
   "metadata": {
    "slideshow": {
     "slide_type": "fragment"
    }
   },
   "outputs": [
    {
     "data": {
      "text/plain": [
       "<Figure size 432x288 with 0 Axes>"
      ]
     },
     "metadata": {},
     "output_type": "display_data"
    },
    {
     "data": {
      "image/png": "[encoded data removed]",
      "text/plain": [
       "<Figure size 432x288 with 1 Axes>"
      ]
     },
     "metadata": {
      "needs_background": "light"
     },
     "output_type": "display_data"
    }
   ],
   "source": [
    "x = np.linspace(stats.chi2.ppf(0.00001, df), stats.chi2.ppf(0.99999, df), 100)\n",
    "pval = (1.0 - stats.chi2.cdf(x, df))\n",
    "\n",
    "plt.figure()\n",
    "fig, ax1 = plt.subplots()\n",
    "plt.yscale(\"log\")\n",
    "\n",
    "labely = ax1.set_xlabel(\"$\\chi^{2}$\", fontsize = 18)\n",
    "labely = ax1.set_ylabel(\"p-value = $1 - F(\\chi^{2})$\", fontsize = 18)\n",
    "\n",
    "label= \"ndof = \" + str(nBins)\n",
    "ax1.plot(x, pval, 'r-', lw=5, alpha=0.6, label=label)\n",
    "legend = ax1.legend(loc='upper right', fontsize='large')\n",
    "\n",
    "yCV = [0.1, 0.01, 0.001]\n",
    "\n",
    "for p in yCV:\n",
    "    xCV = stats.chi2.ppf((1.0 - p), df)\n",
    "    plt.hlines(p, 0.0, xCV,  linestyle=\"dashed\")\n",
    "    plt.vlines(xCV, 0.0, p,  linestyle=\"dashed\")\n",
    "    \n",
    "plt.show()"
   ]
  }
 ],
 "metadata": {
  "celltoolbar": "Slideshow",
  "kernelspec": {
   "display_name": "Python 3",
   "language": "python",
   "name": "python3"
  },
  "language_info": {
   "codemirror_mode": {
    "name": "ipython",
    "version": 3
   },
   "file_extension": ".py",
   "mimetype": "text/x-python",
   "name": "python",
   "nbconvert_exporter": "python",
   "pygments_lexer": "ipython3",
   "version": "3.7.4"
  }
 },
 "nbformat": 4,
 "nbformat_minor": 2
}
