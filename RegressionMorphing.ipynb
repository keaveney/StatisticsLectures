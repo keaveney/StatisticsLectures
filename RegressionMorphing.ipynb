{
 "cells": [
  {
   "cell_type": "code",
   "execution_count": 9,
   "metadata": {},
   "outputs": [
    {
     "name": "stdout",
     "output_type": "stream",
     "text": [
      "0.23.2\n"
     ]
    }
   ],
   "source": [
    "# check scikit-learn version\n",
    "import sklearn\n",
    "print(sklearn.__version__)\n",
    "import numpy as np\n",
    "from itertools import combinations"
   ]
  },
  {
   "cell_type": "code",
   "execution_count": 24,
   "metadata": {},
   "outputs": [],
   "source": [
    "def triangularNumber(n):\n",
    "    tN = int(n*(n+1)/2)\n",
    "    return tN\n",
    "\n",
    "\n",
    "def makeCoeff(ci):\n",
    "    X = np.array([])\n",
    "    for row in ci:\n",
    "        X = np.append(X, row**2)\n",
    "        combs = combinations(list(row), 2)\n",
    "        num_rows = np.shape(ci)[0] \n",
    "        for comb in combs:\n",
    "            X = np.append(X, comb[0]*comb[1]) \n",
    "    \n",
    "    X = X.reshape(num_rows, triangularNumber(len(ci[0])))\n",
    "    \n",
    "    return X"
   ]
  },
  {
   "cell_type": "code",
   "execution_count": 25,
   "metadata": {},
   "outputs": [
    {
     "name": "stdout",
     "output_type": "stream",
     "text": [
      "point [ 1. -1.  2. -5.]  theory pred = [0.8346]  model pred =  [[0.83159593]]\n",
      "point [ 1. -3. -1.  1.]  theory pred = [0.1218]  model pred =  [[0.11936919]]\n",
      "point [ 1.  0. -0.  5.]  theory pred = [0.7079]  model pred =  [[0.68726912]]\n",
      "point [ 1.  3.  1. -4.]  theory pred = [0.5791]  model pred =  [[0.59675907]]\n",
      "point [ 1. -3. -3.  3.]  theory pred = [0.3172]  model pred =  [[0.30424793]]\n",
      "point [ 1.  2. -5. -2.]  theory pred = [0.2679]  model pred =  [[0.26749195]]\n"
     ]
    }
   ],
   "source": [
    "# linear regression for multioutput\n",
    "from sklearn.datasets import make_regression\n",
    "from sklearn.linear_model import LinearRegression\n",
    "\n",
    "# points in ci space for train predictions\n",
    "ci = np.array([[1.0, 1.0, -3.0, -3.0], [1.0, -5.0, 3.0, -2.0], [1.0, 1.0, -2.0, 2.0], [1.0, -1.0, 0.0, 1.0], [1.0, -1.0, -4.0, -3.0], [1.0, -5.0, -2.0, -0.0], [1.0, 5.0, -1.0, -5.0], [1.0, 2.0, -3.0, -4.0], [1.0, -0.0, -3.0, 1.0], [1.0, 3.0, 4.0, -5.0]])\n",
    "\n",
    "#convert to vector of \"couplings\" to make the morphing a linear system\n",
    "X = makeCoeff(ci)\n",
    "\n",
    "#the results from MadGraph for the tWZ incl. cross section for these 'train' points\n",
    "y =  np.array( [[0.3963], [0.2425], [0.1971], [0.123], [0.3968], [0.1101], [0.8477], [0.5926], [0.1336], [0.8586]] )\n",
    "\n",
    "# define model\n",
    "model = LinearRegression()\n",
    "\n",
    "# fit model\n",
    "model.fit(X, y)\n",
    "\n",
    "# points in ci space for test predictions\n",
    "tests = np.array([[1.0, -1.0, 2.0, -5.0], [1.0, -3.0, -1.0, 1.0], [1.0, 0.0, -0.0, 5.0] , [1.0, 3.0, 1.0, -4.0], [1.0, -3.0, -3.0, 3.0], [1.0, 2.0, -5.0, -2.0]] ) \n",
    "\n",
    "#convert to vector of \"couplings\" to make the morphing a linear system\n",
    "testCis = makeCoeff(tests)\n",
    "\n",
    "#the results from MadGraph for the tWZ incl. cross section for these 'test' points\n",
    "preds = [[0.8346], [0.1218], [0.7079], [0.5791], [0.3172], [0.2679]]\n",
    "\n",
    "# compare model predictions to MadGraph results at 'test' points\n",
    "num_rows = np.shape(testCis)[0] \n",
    "\n",
    "for tCi in range(0, num_rows):  \n",
    "    yhat = model.predict([testCis[tCi]])\n",
    "    print(\"point \"  +  str(tests[tCi]) +   \"  theory pred = \" + str(preds[tCi]) +  \"  morph model pred =  \"+   str(yhat))"
   ]
  }
 ],
 "metadata": {
  "kernelspec": {
   "display_name": "Python 3",
   "language": "python",
   "name": "python3"
  },
  "language_info": {
   "codemirror_mode": {
    "name": "ipython",
    "version": 3
   },
   "file_extension": ".py",
   "mimetype": "text/x-python",
   "name": "python",
   "nbconvert_exporter": "python",
   "pygments_lexer": "ipython3",
   "version": "3.8.5"
  }
 },
 "nbformat": 4,
 "nbformat_minor": 2
}
